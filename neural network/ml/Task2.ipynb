{
  "nbformat": 4,
  "nbformat_minor": 0,
  "metadata": {
    "colab": {
      "provenance": [],
      "toc_visible": true
    },
    "kernelspec": {
      "name": "python3",
      "display_name": "Python 3"
    },
    "language_info": {
      "name": "python"
    }
  },
  "cells": [
    {
      "cell_type": "markdown",
      "source": [
        "# 2-In this we will analyze the life expectancy dataset provided by WHO. You can download it from \tthis link: https://www.kaggle.com/datasets/kumarajarshi/life-expectancy-who ."
      ],
      "metadata": {
        "id": "jgK69au7zSFN"
      }
    },
    {
      "cell_type": "markdown",
      "source": [
        "## a. Perform steps a and b similar to previous task."
      ],
      "metadata": {
        "id": "WJDzc1l2zfft"
      }
    },
    {
      "cell_type": "markdown",
      "source": [
        "### Step 1: Exploring the Dataset\n",
        "\n",
        "The dataset contains various health-related indicators for different countries over several years. Key columns include:\n",
        "\n",
        "- `Country`: Name of the country.\n",
        "- `Year`: Year of the observation.\n",
        "- `Status`: Development status of the country (Developed/Developing).\n",
        "- `Life expectancy`: Life expectancy in years.\n",
        "- Other columns related to health and socio-economic factors like `Adult Mortality`, `infant deaths`, `Alcohol consumption`, `GDP`, etc."
      ],
      "metadata": {
        "id": "iw2b8S4ryTn8"
      }
    },
    {
      "cell_type": "code",
      "source": [
        "import pandas as pd\n",
        "\n",
        "# Load the dataset\n",
        "df = pd.read_csv('./Life Expectancy Data.csv')\n",
        "\n",
        "# Display the first few rows of the dataset\n",
        "df.head()"
      ],
      "metadata": {
        "colab": {
          "base_uri": "https://localhost:8080/",
          "height": 308
        },
        "id": "P_XQcU9U3Sk_",
        "outputId": "5f9277b7-f14b-4a67-87cc-1afca8f51d14"
      },
      "execution_count": 1,
      "outputs": [
        {
          "output_type": "execute_result",
          "data": {
            "text/plain": [
              "       Country  Year      Status  Life expectancy   Adult Mortality  \\\n",
              "0  Afghanistan  2015  Developing              65.0            263.0   \n",
              "1  Afghanistan  2014  Developing              59.9            271.0   \n",
              "2  Afghanistan  2013  Developing              59.9            268.0   \n",
              "3  Afghanistan  2012  Developing              59.5            272.0   \n",
              "4  Afghanistan  2011  Developing              59.2            275.0   \n",
              "\n",
              "   infant deaths  Alcohol  percentage expenditure  Hepatitis B  Measles   ...  \\\n",
              "0             62     0.01               71.279624         65.0      1154  ...   \n",
              "1             64     0.01               73.523582         62.0       492  ...   \n",
              "2             66     0.01               73.219243         64.0       430  ...   \n",
              "3             69     0.01               78.184215         67.0      2787  ...   \n",
              "4             71     0.01                7.097109         68.0      3013  ...   \n",
              "\n",
              "   Polio  Total expenditure  Diphtheria    HIV/AIDS         GDP  Population  \\\n",
              "0    6.0               8.16         65.0        0.1  584.259210  33736494.0   \n",
              "1   58.0               8.18         62.0        0.1  612.696514    327582.0   \n",
              "2   62.0               8.13         64.0        0.1  631.744976  31731688.0   \n",
              "3   67.0               8.52         67.0        0.1  669.959000   3696958.0   \n",
              "4   68.0               7.87         68.0        0.1   63.537231   2978599.0   \n",
              "\n",
              "    thinness  1-19 years   thinness 5-9 years  \\\n",
              "0                   17.2                 17.3   \n",
              "1                   17.5                 17.5   \n",
              "2                   17.7                 17.7   \n",
              "3                   17.9                 18.0   \n",
              "4                   18.2                 18.2   \n",
              "\n",
              "   Income composition of resources  Schooling  \n",
              "0                            0.479       10.1  \n",
              "1                            0.476       10.0  \n",
              "2                            0.470        9.9  \n",
              "3                            0.463        9.8  \n",
              "4                            0.454        9.5  \n",
              "\n",
              "[5 rows x 22 columns]"
            ],
            "text/html": [
              "\n",
              "  <div id=\"df-f2ec2f09-647e-47fa-8ff9-99f766ce59fa\" class=\"colab-df-container\">\n",
              "    <div>\n",
              "<style scoped>\n",
              "    .dataframe tbody tr th:only-of-type {\n",
              "        vertical-align: middle;\n",
              "    }\n",
              "\n",
              "    .dataframe tbody tr th {\n",
              "        vertical-align: top;\n",
              "    }\n",
              "\n",
              "    .dataframe thead th {\n",
              "        text-align: right;\n",
              "    }\n",
              "</style>\n",
              "<table border=\"1\" class=\"dataframe\">\n",
              "  <thead>\n",
              "    <tr style=\"text-align: right;\">\n",
              "      <th></th>\n",
              "      <th>Country</th>\n",
              "      <th>Year</th>\n",
              "      <th>Status</th>\n",
              "      <th>Life expectancy</th>\n",
              "      <th>Adult Mortality</th>\n",
              "      <th>infant deaths</th>\n",
              "      <th>Alcohol</th>\n",
              "      <th>percentage expenditure</th>\n",
              "      <th>Hepatitis B</th>\n",
              "      <th>Measles</th>\n",
              "      <th>...</th>\n",
              "      <th>Polio</th>\n",
              "      <th>Total expenditure</th>\n",
              "      <th>Diphtheria</th>\n",
              "      <th>HIV/AIDS</th>\n",
              "      <th>GDP</th>\n",
              "      <th>Population</th>\n",
              "      <th>thinness  1-19 years</th>\n",
              "      <th>thinness 5-9 years</th>\n",
              "      <th>Income composition of resources</th>\n",
              "      <th>Schooling</th>\n",
              "    </tr>\n",
              "  </thead>\n",
              "  <tbody>\n",
              "    <tr>\n",
              "      <th>0</th>\n",
              "      <td>Afghanistan</td>\n",
              "      <td>2015</td>\n",
              "      <td>Developing</td>\n",
              "      <td>65.0</td>\n",
              "      <td>263.0</td>\n",
              "      <td>62</td>\n",
              "      <td>0.01</td>\n",
              "      <td>71.279624</td>\n",
              "      <td>65.0</td>\n",
              "      <td>1154</td>\n",
              "      <td>...</td>\n",
              "      <td>6.0</td>\n",
              "      <td>8.16</td>\n",
              "      <td>65.0</td>\n",
              "      <td>0.1</td>\n",
              "      <td>584.259210</td>\n",
              "      <td>33736494.0</td>\n",
              "      <td>17.2</td>\n",
              "      <td>17.3</td>\n",
              "      <td>0.479</td>\n",
              "      <td>10.1</td>\n",
              "    </tr>\n",
              "    <tr>\n",
              "      <th>1</th>\n",
              "      <td>Afghanistan</td>\n",
              "      <td>2014</td>\n",
              "      <td>Developing</td>\n",
              "      <td>59.9</td>\n",
              "      <td>271.0</td>\n",
              "      <td>64</td>\n",
              "      <td>0.01</td>\n",
              "      <td>73.523582</td>\n",
              "      <td>62.0</td>\n",
              "      <td>492</td>\n",
              "      <td>...</td>\n",
              "      <td>58.0</td>\n",
              "      <td>8.18</td>\n",
              "      <td>62.0</td>\n",
              "      <td>0.1</td>\n",
              "      <td>612.696514</td>\n",
              "      <td>327582.0</td>\n",
              "      <td>17.5</td>\n",
              "      <td>17.5</td>\n",
              "      <td>0.476</td>\n",
              "      <td>10.0</td>\n",
              "    </tr>\n",
              "    <tr>\n",
              "      <th>2</th>\n",
              "      <td>Afghanistan</td>\n",
              "      <td>2013</td>\n",
              "      <td>Developing</td>\n",
              "      <td>59.9</td>\n",
              "      <td>268.0</td>\n",
              "      <td>66</td>\n",
              "      <td>0.01</td>\n",
              "      <td>73.219243</td>\n",
              "      <td>64.0</td>\n",
              "      <td>430</td>\n",
              "      <td>...</td>\n",
              "      <td>62.0</td>\n",
              "      <td>8.13</td>\n",
              "      <td>64.0</td>\n",
              "      <td>0.1</td>\n",
              "      <td>631.744976</td>\n",
              "      <td>31731688.0</td>\n",
              "      <td>17.7</td>\n",
              "      <td>17.7</td>\n",
              "      <td>0.470</td>\n",
              "      <td>9.9</td>\n",
              "    </tr>\n",
              "    <tr>\n",
              "      <th>3</th>\n",
              "      <td>Afghanistan</td>\n",
              "      <td>2012</td>\n",
              "      <td>Developing</td>\n",
              "      <td>59.5</td>\n",
              "      <td>272.0</td>\n",
              "      <td>69</td>\n",
              "      <td>0.01</td>\n",
              "      <td>78.184215</td>\n",
              "      <td>67.0</td>\n",
              "      <td>2787</td>\n",
              "      <td>...</td>\n",
              "      <td>67.0</td>\n",
              "      <td>8.52</td>\n",
              "      <td>67.0</td>\n",
              "      <td>0.1</td>\n",
              "      <td>669.959000</td>\n",
              "      <td>3696958.0</td>\n",
              "      <td>17.9</td>\n",
              "      <td>18.0</td>\n",
              "      <td>0.463</td>\n",
              "      <td>9.8</td>\n",
              "    </tr>\n",
              "    <tr>\n",
              "      <th>4</th>\n",
              "      <td>Afghanistan</td>\n",
              "      <td>2011</td>\n",
              "      <td>Developing</td>\n",
              "      <td>59.2</td>\n",
              "      <td>275.0</td>\n",
              "      <td>71</td>\n",
              "      <td>0.01</td>\n",
              "      <td>7.097109</td>\n",
              "      <td>68.0</td>\n",
              "      <td>3013</td>\n",
              "      <td>...</td>\n",
              "      <td>68.0</td>\n",
              "      <td>7.87</td>\n",
              "      <td>68.0</td>\n",
              "      <td>0.1</td>\n",
              "      <td>63.537231</td>\n",
              "      <td>2978599.0</td>\n",
              "      <td>18.2</td>\n",
              "      <td>18.2</td>\n",
              "      <td>0.454</td>\n",
              "      <td>9.5</td>\n",
              "    </tr>\n",
              "  </tbody>\n",
              "</table>\n",
              "<p>5 rows × 22 columns</p>\n",
              "</div>\n",
              "    <div class=\"colab-df-buttons\">\n",
              "\n",
              "  <div class=\"colab-df-container\">\n",
              "    <button class=\"colab-df-convert\" onclick=\"convertToInteractive('df-f2ec2f09-647e-47fa-8ff9-99f766ce59fa')\"\n",
              "            title=\"Convert this dataframe to an interactive table.\"\n",
              "            style=\"display:none;\">\n",
              "\n",
              "  <svg xmlns=\"http://www.w3.org/2000/svg\" height=\"24px\" viewBox=\"0 -960 960 960\">\n",
              "    <path d=\"M120-120v-720h720v720H120Zm60-500h600v-160H180v160Zm220 220h160v-160H400v160Zm0 220h160v-160H400v160ZM180-400h160v-160H180v160Zm440 0h160v-160H620v160ZM180-180h160v-160H180v160Zm440 0h160v-160H620v160Z\"/>\n",
              "  </svg>\n",
              "    </button>\n",
              "\n",
              "  <style>\n",
              "    .colab-df-container {\n",
              "      display:flex;\n",
              "      gap: 12px;\n",
              "    }\n",
              "\n",
              "    .colab-df-convert {\n",
              "      background-color: #E8F0FE;\n",
              "      border: none;\n",
              "      border-radius: 50%;\n",
              "      cursor: pointer;\n",
              "      display: none;\n",
              "      fill: #1967D2;\n",
              "      height: 32px;\n",
              "      padding: 0 0 0 0;\n",
              "      width: 32px;\n",
              "    }\n",
              "\n",
              "    .colab-df-convert:hover {\n",
              "      background-color: #E2EBFA;\n",
              "      box-shadow: 0px 1px 2px rgba(60, 64, 67, 0.3), 0px 1px 3px 1px rgba(60, 64, 67, 0.15);\n",
              "      fill: #174EA6;\n",
              "    }\n",
              "\n",
              "    .colab-df-buttons div {\n",
              "      margin-bottom: 4px;\n",
              "    }\n",
              "\n",
              "    [theme=dark] .colab-df-convert {\n",
              "      background-color: #3B4455;\n",
              "      fill: #D2E3FC;\n",
              "    }\n",
              "\n",
              "    [theme=dark] .colab-df-convert:hover {\n",
              "      background-color: #434B5C;\n",
              "      box-shadow: 0px 1px 3px 1px rgba(0, 0, 0, 0.15);\n",
              "      filter: drop-shadow(0px 1px 2px rgba(0, 0, 0, 0.3));\n",
              "      fill: #FFFFFF;\n",
              "    }\n",
              "  </style>\n",
              "\n",
              "    <script>\n",
              "      const buttonEl =\n",
              "        document.querySelector('#df-f2ec2f09-647e-47fa-8ff9-99f766ce59fa button.colab-df-convert');\n",
              "      buttonEl.style.display =\n",
              "        google.colab.kernel.accessAllowed ? 'block' : 'none';\n",
              "\n",
              "      async function convertToInteractive(key) {\n",
              "        const element = document.querySelector('#df-f2ec2f09-647e-47fa-8ff9-99f766ce59fa');\n",
              "        const dataTable =\n",
              "          await google.colab.kernel.invokeFunction('convertToInteractive',\n",
              "                                                    [key], {});\n",
              "        if (!dataTable) return;\n",
              "\n",
              "        const docLinkHtml = 'Like what you see? Visit the ' +\n",
              "          '<a target=\"_blank\" href=https://colab.research.google.com/notebooks/data_table.ipynb>data table notebook</a>'\n",
              "          + ' to learn more about interactive tables.';\n",
              "        element.innerHTML = '';\n",
              "        dataTable['output_type'] = 'display_data';\n",
              "        await google.colab.output.renderOutput(dataTable, element);\n",
              "        const docLink = document.createElement('div');\n",
              "        docLink.innerHTML = docLinkHtml;\n",
              "        element.appendChild(docLink);\n",
              "      }\n",
              "    </script>\n",
              "  </div>\n",
              "\n",
              "\n",
              "<div id=\"df-eb5f95c2-4aa5-4870-9adf-fa3d60f81305\">\n",
              "  <button class=\"colab-df-quickchart\" onclick=\"quickchart('df-eb5f95c2-4aa5-4870-9adf-fa3d60f81305')\"\n",
              "            title=\"Suggest charts\"\n",
              "            style=\"display:none;\">\n",
              "\n",
              "<svg xmlns=\"http://www.w3.org/2000/svg\" height=\"24px\"viewBox=\"0 0 24 24\"\n",
              "     width=\"24px\">\n",
              "    <g>\n",
              "        <path d=\"M19 3H5c-1.1 0-2 .9-2 2v14c0 1.1.9 2 2 2h14c1.1 0 2-.9 2-2V5c0-1.1-.9-2-2-2zM9 17H7v-7h2v7zm4 0h-2V7h2v10zm4 0h-2v-4h2v4z\"/>\n",
              "    </g>\n",
              "</svg>\n",
              "  </button>\n",
              "\n",
              "<style>\n",
              "  .colab-df-quickchart {\n",
              "      --bg-color: #E8F0FE;\n",
              "      --fill-color: #1967D2;\n",
              "      --hover-bg-color: #E2EBFA;\n",
              "      --hover-fill-color: #174EA6;\n",
              "      --disabled-fill-color: #AAA;\n",
              "      --disabled-bg-color: #DDD;\n",
              "  }\n",
              "\n",
              "  [theme=dark] .colab-df-quickchart {\n",
              "      --bg-color: #3B4455;\n",
              "      --fill-color: #D2E3FC;\n",
              "      --hover-bg-color: #434B5C;\n",
              "      --hover-fill-color: #FFFFFF;\n",
              "      --disabled-bg-color: #3B4455;\n",
              "      --disabled-fill-color: #666;\n",
              "  }\n",
              "\n",
              "  .colab-df-quickchart {\n",
              "    background-color: var(--bg-color);\n",
              "    border: none;\n",
              "    border-radius: 50%;\n",
              "    cursor: pointer;\n",
              "    display: none;\n",
              "    fill: var(--fill-color);\n",
              "    height: 32px;\n",
              "    padding: 0;\n",
              "    width: 32px;\n",
              "  }\n",
              "\n",
              "  .colab-df-quickchart:hover {\n",
              "    background-color: var(--hover-bg-color);\n",
              "    box-shadow: 0 1px 2px rgba(60, 64, 67, 0.3), 0 1px 3px 1px rgba(60, 64, 67, 0.15);\n",
              "    fill: var(--button-hover-fill-color);\n",
              "  }\n",
              "\n",
              "  .colab-df-quickchart-complete:disabled,\n",
              "  .colab-df-quickchart-complete:disabled:hover {\n",
              "    background-color: var(--disabled-bg-color);\n",
              "    fill: var(--disabled-fill-color);\n",
              "    box-shadow: none;\n",
              "  }\n",
              "\n",
              "  .colab-df-spinner {\n",
              "    border: 2px solid var(--fill-color);\n",
              "    border-color: transparent;\n",
              "    border-bottom-color: var(--fill-color);\n",
              "    animation:\n",
              "      spin 1s steps(1) infinite;\n",
              "  }\n",
              "\n",
              "  @keyframes spin {\n",
              "    0% {\n",
              "      border-color: transparent;\n",
              "      border-bottom-color: var(--fill-color);\n",
              "      border-left-color: var(--fill-color);\n",
              "    }\n",
              "    20% {\n",
              "      border-color: transparent;\n",
              "      border-left-color: var(--fill-color);\n",
              "      border-top-color: var(--fill-color);\n",
              "    }\n",
              "    30% {\n",
              "      border-color: transparent;\n",
              "      border-left-color: var(--fill-color);\n",
              "      border-top-color: var(--fill-color);\n",
              "      border-right-color: var(--fill-color);\n",
              "    }\n",
              "    40% {\n",
              "      border-color: transparent;\n",
              "      border-right-color: var(--fill-color);\n",
              "      border-top-color: var(--fill-color);\n",
              "    }\n",
              "    60% {\n",
              "      border-color: transparent;\n",
              "      border-right-color: var(--fill-color);\n",
              "    }\n",
              "    80% {\n",
              "      border-color: transparent;\n",
              "      border-right-color: var(--fill-color);\n",
              "      border-bottom-color: var(--fill-color);\n",
              "    }\n",
              "    90% {\n",
              "      border-color: transparent;\n",
              "      border-bottom-color: var(--fill-color);\n",
              "    }\n",
              "  }\n",
              "</style>\n",
              "\n",
              "  <script>\n",
              "    async function quickchart(key) {\n",
              "      const quickchartButtonEl =\n",
              "        document.querySelector('#' + key + ' button');\n",
              "      quickchartButtonEl.disabled = true;  // To prevent multiple clicks.\n",
              "      quickchartButtonEl.classList.add('colab-df-spinner');\n",
              "      try {\n",
              "        const charts = await google.colab.kernel.invokeFunction(\n",
              "            'suggestCharts', [key], {});\n",
              "      } catch (error) {\n",
              "        console.error('Error during call to suggestCharts:', error);\n",
              "      }\n",
              "      quickchartButtonEl.classList.remove('colab-df-spinner');\n",
              "      quickchartButtonEl.classList.add('colab-df-quickchart-complete');\n",
              "    }\n",
              "    (() => {\n",
              "      let quickchartButtonEl =\n",
              "        document.querySelector('#df-eb5f95c2-4aa5-4870-9adf-fa3d60f81305 button');\n",
              "      quickchartButtonEl.style.display =\n",
              "        google.colab.kernel.accessAllowed ? 'block' : 'none';\n",
              "    })();\n",
              "  </script>\n",
              "</div>\n",
              "    </div>\n",
              "  </div>\n"
            ],
            "application/vnd.google.colaboratory.intrinsic+json": {
              "type": "dataframe",
              "variable_name": "df"
            }
          },
          "metadata": {},
          "execution_count": 1
        }
      ]
    },
    {
      "cell_type": "markdown",
      "source": [
        "It appears that there's a discrepancy in the column names. The column name 'BMI' might have leading or trailing spaces. To avoid such issues, let's list all the column names and ensure they are correctly referenced.\n",
        "\n",
        "### Step 2: Cleaning Column Names\n",
        "\n",
        "We'll clean the column names to remove any leading or trailing spaces.\n"
      ],
      "metadata": {
        "id": "xbJ5bZ9-29pj"
      }
    },
    {
      "cell_type": "code",
      "source": [
        "# Cleaning column names\n",
        "df.columns = df.columns.str.strip()\n",
        "df.head()"
      ],
      "metadata": {
        "colab": {
          "base_uri": "https://localhost:8080/",
          "height": 308
        },
        "id": "eT22wh-J2-76",
        "outputId": "72217a69-05ab-400a-b162-1610647356ea"
      },
      "execution_count": 2,
      "outputs": [
        {
          "output_type": "execute_result",
          "data": {
            "text/plain": [
              "       Country  Year      Status  Life expectancy  Adult Mortality  \\\n",
              "0  Afghanistan  2015  Developing             65.0            263.0   \n",
              "1  Afghanistan  2014  Developing             59.9            271.0   \n",
              "2  Afghanistan  2013  Developing             59.9            268.0   \n",
              "3  Afghanistan  2012  Developing             59.5            272.0   \n",
              "4  Afghanistan  2011  Developing             59.2            275.0   \n",
              "\n",
              "   infant deaths  Alcohol  percentage expenditure  Hepatitis B  Measles  ...  \\\n",
              "0             62     0.01               71.279624         65.0     1154  ...   \n",
              "1             64     0.01               73.523582         62.0      492  ...   \n",
              "2             66     0.01               73.219243         64.0      430  ...   \n",
              "3             69     0.01               78.184215         67.0     2787  ...   \n",
              "4             71     0.01                7.097109         68.0     3013  ...   \n",
              "\n",
              "   Polio  Total expenditure  Diphtheria  HIV/AIDS         GDP  Population  \\\n",
              "0    6.0               8.16        65.0       0.1  584.259210  33736494.0   \n",
              "1   58.0               8.18        62.0       0.1  612.696514    327582.0   \n",
              "2   62.0               8.13        64.0       0.1  631.744976  31731688.0   \n",
              "3   67.0               8.52        67.0       0.1  669.959000   3696958.0   \n",
              "4   68.0               7.87        68.0       0.1   63.537231   2978599.0   \n",
              "\n",
              "   thinness  1-19 years  thinness 5-9 years  Income composition of resources  \\\n",
              "0                  17.2                17.3                            0.479   \n",
              "1                  17.5                17.5                            0.476   \n",
              "2                  17.7                17.7                            0.470   \n",
              "3                  17.9                18.0                            0.463   \n",
              "4                  18.2                18.2                            0.454   \n",
              "\n",
              "   Schooling  \n",
              "0       10.1  \n",
              "1       10.0  \n",
              "2        9.9  \n",
              "3        9.8  \n",
              "4        9.5  \n",
              "\n",
              "[5 rows x 22 columns]"
            ],
            "text/html": [
              "\n",
              "  <div id=\"df-56c1266f-5f28-46bf-a6d7-e2db8fa7e94b\" class=\"colab-df-container\">\n",
              "    <div>\n",
              "<style scoped>\n",
              "    .dataframe tbody tr th:only-of-type {\n",
              "        vertical-align: middle;\n",
              "    }\n",
              "\n",
              "    .dataframe tbody tr th {\n",
              "        vertical-align: top;\n",
              "    }\n",
              "\n",
              "    .dataframe thead th {\n",
              "        text-align: right;\n",
              "    }\n",
              "</style>\n",
              "<table border=\"1\" class=\"dataframe\">\n",
              "  <thead>\n",
              "    <tr style=\"text-align: right;\">\n",
              "      <th></th>\n",
              "      <th>Country</th>\n",
              "      <th>Year</th>\n",
              "      <th>Status</th>\n",
              "      <th>Life expectancy</th>\n",
              "      <th>Adult Mortality</th>\n",
              "      <th>infant deaths</th>\n",
              "      <th>Alcohol</th>\n",
              "      <th>percentage expenditure</th>\n",
              "      <th>Hepatitis B</th>\n",
              "      <th>Measles</th>\n",
              "      <th>...</th>\n",
              "      <th>Polio</th>\n",
              "      <th>Total expenditure</th>\n",
              "      <th>Diphtheria</th>\n",
              "      <th>HIV/AIDS</th>\n",
              "      <th>GDP</th>\n",
              "      <th>Population</th>\n",
              "      <th>thinness  1-19 years</th>\n",
              "      <th>thinness 5-9 years</th>\n",
              "      <th>Income composition of resources</th>\n",
              "      <th>Schooling</th>\n",
              "    </tr>\n",
              "  </thead>\n",
              "  <tbody>\n",
              "    <tr>\n",
              "      <th>0</th>\n",
              "      <td>Afghanistan</td>\n",
              "      <td>2015</td>\n",
              "      <td>Developing</td>\n",
              "      <td>65.0</td>\n",
              "      <td>263.0</td>\n",
              "      <td>62</td>\n",
              "      <td>0.01</td>\n",
              "      <td>71.279624</td>\n",
              "      <td>65.0</td>\n",
              "      <td>1154</td>\n",
              "      <td>...</td>\n",
              "      <td>6.0</td>\n",
              "      <td>8.16</td>\n",
              "      <td>65.0</td>\n",
              "      <td>0.1</td>\n",
              "      <td>584.259210</td>\n",
              "      <td>33736494.0</td>\n",
              "      <td>17.2</td>\n",
              "      <td>17.3</td>\n",
              "      <td>0.479</td>\n",
              "      <td>10.1</td>\n",
              "    </tr>\n",
              "    <tr>\n",
              "      <th>1</th>\n",
              "      <td>Afghanistan</td>\n",
              "      <td>2014</td>\n",
              "      <td>Developing</td>\n",
              "      <td>59.9</td>\n",
              "      <td>271.0</td>\n",
              "      <td>64</td>\n",
              "      <td>0.01</td>\n",
              "      <td>73.523582</td>\n",
              "      <td>62.0</td>\n",
              "      <td>492</td>\n",
              "      <td>...</td>\n",
              "      <td>58.0</td>\n",
              "      <td>8.18</td>\n",
              "      <td>62.0</td>\n",
              "      <td>0.1</td>\n",
              "      <td>612.696514</td>\n",
              "      <td>327582.0</td>\n",
              "      <td>17.5</td>\n",
              "      <td>17.5</td>\n",
              "      <td>0.476</td>\n",
              "      <td>10.0</td>\n",
              "    </tr>\n",
              "    <tr>\n",
              "      <th>2</th>\n",
              "      <td>Afghanistan</td>\n",
              "      <td>2013</td>\n",
              "      <td>Developing</td>\n",
              "      <td>59.9</td>\n",
              "      <td>268.0</td>\n",
              "      <td>66</td>\n",
              "      <td>0.01</td>\n",
              "      <td>73.219243</td>\n",
              "      <td>64.0</td>\n",
              "      <td>430</td>\n",
              "      <td>...</td>\n",
              "      <td>62.0</td>\n",
              "      <td>8.13</td>\n",
              "      <td>64.0</td>\n",
              "      <td>0.1</td>\n",
              "      <td>631.744976</td>\n",
              "      <td>31731688.0</td>\n",
              "      <td>17.7</td>\n",
              "      <td>17.7</td>\n",
              "      <td>0.470</td>\n",
              "      <td>9.9</td>\n",
              "    </tr>\n",
              "    <tr>\n",
              "      <th>3</th>\n",
              "      <td>Afghanistan</td>\n",
              "      <td>2012</td>\n",
              "      <td>Developing</td>\n",
              "      <td>59.5</td>\n",
              "      <td>272.0</td>\n",
              "      <td>69</td>\n",
              "      <td>0.01</td>\n",
              "      <td>78.184215</td>\n",
              "      <td>67.0</td>\n",
              "      <td>2787</td>\n",
              "      <td>...</td>\n",
              "      <td>67.0</td>\n",
              "      <td>8.52</td>\n",
              "      <td>67.0</td>\n",
              "      <td>0.1</td>\n",
              "      <td>669.959000</td>\n",
              "      <td>3696958.0</td>\n",
              "      <td>17.9</td>\n",
              "      <td>18.0</td>\n",
              "      <td>0.463</td>\n",
              "      <td>9.8</td>\n",
              "    </tr>\n",
              "    <tr>\n",
              "      <th>4</th>\n",
              "      <td>Afghanistan</td>\n",
              "      <td>2011</td>\n",
              "      <td>Developing</td>\n",
              "      <td>59.2</td>\n",
              "      <td>275.0</td>\n",
              "      <td>71</td>\n",
              "      <td>0.01</td>\n",
              "      <td>7.097109</td>\n",
              "      <td>68.0</td>\n",
              "      <td>3013</td>\n",
              "      <td>...</td>\n",
              "      <td>68.0</td>\n",
              "      <td>7.87</td>\n",
              "      <td>68.0</td>\n",
              "      <td>0.1</td>\n",
              "      <td>63.537231</td>\n",
              "      <td>2978599.0</td>\n",
              "      <td>18.2</td>\n",
              "      <td>18.2</td>\n",
              "      <td>0.454</td>\n",
              "      <td>9.5</td>\n",
              "    </tr>\n",
              "  </tbody>\n",
              "</table>\n",
              "<p>5 rows × 22 columns</p>\n",
              "</div>\n",
              "    <div class=\"colab-df-buttons\">\n",
              "\n",
              "  <div class=\"colab-df-container\">\n",
              "    <button class=\"colab-df-convert\" onclick=\"convertToInteractive('df-56c1266f-5f28-46bf-a6d7-e2db8fa7e94b')\"\n",
              "            title=\"Convert this dataframe to an interactive table.\"\n",
              "            style=\"display:none;\">\n",
              "\n",
              "  <svg xmlns=\"http://www.w3.org/2000/svg\" height=\"24px\" viewBox=\"0 -960 960 960\">\n",
              "    <path d=\"M120-120v-720h720v720H120Zm60-500h600v-160H180v160Zm220 220h160v-160H400v160Zm0 220h160v-160H400v160ZM180-400h160v-160H180v160Zm440 0h160v-160H620v160ZM180-180h160v-160H180v160Zm440 0h160v-160H620v160Z\"/>\n",
              "  </svg>\n",
              "    </button>\n",
              "\n",
              "  <style>\n",
              "    .colab-df-container {\n",
              "      display:flex;\n",
              "      gap: 12px;\n",
              "    }\n",
              "\n",
              "    .colab-df-convert {\n",
              "      background-color: #E8F0FE;\n",
              "      border: none;\n",
              "      border-radius: 50%;\n",
              "      cursor: pointer;\n",
              "      display: none;\n",
              "      fill: #1967D2;\n",
              "      height: 32px;\n",
              "      padding: 0 0 0 0;\n",
              "      width: 32px;\n",
              "    }\n",
              "\n",
              "    .colab-df-convert:hover {\n",
              "      background-color: #E2EBFA;\n",
              "      box-shadow: 0px 1px 2px rgba(60, 64, 67, 0.3), 0px 1px 3px 1px rgba(60, 64, 67, 0.15);\n",
              "      fill: #174EA6;\n",
              "    }\n",
              "\n",
              "    .colab-df-buttons div {\n",
              "      margin-bottom: 4px;\n",
              "    }\n",
              "\n",
              "    [theme=dark] .colab-df-convert {\n",
              "      background-color: #3B4455;\n",
              "      fill: #D2E3FC;\n",
              "    }\n",
              "\n",
              "    [theme=dark] .colab-df-convert:hover {\n",
              "      background-color: #434B5C;\n",
              "      box-shadow: 0px 1px 3px 1px rgba(0, 0, 0, 0.15);\n",
              "      filter: drop-shadow(0px 1px 2px rgba(0, 0, 0, 0.3));\n",
              "      fill: #FFFFFF;\n",
              "    }\n",
              "  </style>\n",
              "\n",
              "    <script>\n",
              "      const buttonEl =\n",
              "        document.querySelector('#df-56c1266f-5f28-46bf-a6d7-e2db8fa7e94b button.colab-df-convert');\n",
              "      buttonEl.style.display =\n",
              "        google.colab.kernel.accessAllowed ? 'block' : 'none';\n",
              "\n",
              "      async function convertToInteractive(key) {\n",
              "        const element = document.querySelector('#df-56c1266f-5f28-46bf-a6d7-e2db8fa7e94b');\n",
              "        const dataTable =\n",
              "          await google.colab.kernel.invokeFunction('convertToInteractive',\n",
              "                                                    [key], {});\n",
              "        if (!dataTable) return;\n",
              "\n",
              "        const docLinkHtml = 'Like what you see? Visit the ' +\n",
              "          '<a target=\"_blank\" href=https://colab.research.google.com/notebooks/data_table.ipynb>data table notebook</a>'\n",
              "          + ' to learn more about interactive tables.';\n",
              "        element.innerHTML = '';\n",
              "        dataTable['output_type'] = 'display_data';\n",
              "        await google.colab.output.renderOutput(dataTable, element);\n",
              "        const docLink = document.createElement('div');\n",
              "        docLink.innerHTML = docLinkHtml;\n",
              "        element.appendChild(docLink);\n",
              "      }\n",
              "    </script>\n",
              "  </div>\n",
              "\n",
              "\n",
              "<div id=\"df-fef3674a-2c4a-4477-b232-3cb2cc77d979\">\n",
              "  <button class=\"colab-df-quickchart\" onclick=\"quickchart('df-fef3674a-2c4a-4477-b232-3cb2cc77d979')\"\n",
              "            title=\"Suggest charts\"\n",
              "            style=\"display:none;\">\n",
              "\n",
              "<svg xmlns=\"http://www.w3.org/2000/svg\" height=\"24px\"viewBox=\"0 0 24 24\"\n",
              "     width=\"24px\">\n",
              "    <g>\n",
              "        <path d=\"M19 3H5c-1.1 0-2 .9-2 2v14c0 1.1.9 2 2 2h14c1.1 0 2-.9 2-2V5c0-1.1-.9-2-2-2zM9 17H7v-7h2v7zm4 0h-2V7h2v10zm4 0h-2v-4h2v4z\"/>\n",
              "    </g>\n",
              "</svg>\n",
              "  </button>\n",
              "\n",
              "<style>\n",
              "  .colab-df-quickchart {\n",
              "      --bg-color: #E8F0FE;\n",
              "      --fill-color: #1967D2;\n",
              "      --hover-bg-color: #E2EBFA;\n",
              "      --hover-fill-color: #174EA6;\n",
              "      --disabled-fill-color: #AAA;\n",
              "      --disabled-bg-color: #DDD;\n",
              "  }\n",
              "\n",
              "  [theme=dark] .colab-df-quickchart {\n",
              "      --bg-color: #3B4455;\n",
              "      --fill-color: #D2E3FC;\n",
              "      --hover-bg-color: #434B5C;\n",
              "      --hover-fill-color: #FFFFFF;\n",
              "      --disabled-bg-color: #3B4455;\n",
              "      --disabled-fill-color: #666;\n",
              "  }\n",
              "\n",
              "  .colab-df-quickchart {\n",
              "    background-color: var(--bg-color);\n",
              "    border: none;\n",
              "    border-radius: 50%;\n",
              "    cursor: pointer;\n",
              "    display: none;\n",
              "    fill: var(--fill-color);\n",
              "    height: 32px;\n",
              "    padding: 0;\n",
              "    width: 32px;\n",
              "  }\n",
              "\n",
              "  .colab-df-quickchart:hover {\n",
              "    background-color: var(--hover-bg-color);\n",
              "    box-shadow: 0 1px 2px rgba(60, 64, 67, 0.3), 0 1px 3px 1px rgba(60, 64, 67, 0.15);\n",
              "    fill: var(--button-hover-fill-color);\n",
              "  }\n",
              "\n",
              "  .colab-df-quickchart-complete:disabled,\n",
              "  .colab-df-quickchart-complete:disabled:hover {\n",
              "    background-color: var(--disabled-bg-color);\n",
              "    fill: var(--disabled-fill-color);\n",
              "    box-shadow: none;\n",
              "  }\n",
              "\n",
              "  .colab-df-spinner {\n",
              "    border: 2px solid var(--fill-color);\n",
              "    border-color: transparent;\n",
              "    border-bottom-color: var(--fill-color);\n",
              "    animation:\n",
              "      spin 1s steps(1) infinite;\n",
              "  }\n",
              "\n",
              "  @keyframes spin {\n",
              "    0% {\n",
              "      border-color: transparent;\n",
              "      border-bottom-color: var(--fill-color);\n",
              "      border-left-color: var(--fill-color);\n",
              "    }\n",
              "    20% {\n",
              "      border-color: transparent;\n",
              "      border-left-color: var(--fill-color);\n",
              "      border-top-color: var(--fill-color);\n",
              "    }\n",
              "    30% {\n",
              "      border-color: transparent;\n",
              "      border-left-color: var(--fill-color);\n",
              "      border-top-color: var(--fill-color);\n",
              "      border-right-color: var(--fill-color);\n",
              "    }\n",
              "    40% {\n",
              "      border-color: transparent;\n",
              "      border-right-color: var(--fill-color);\n",
              "      border-top-color: var(--fill-color);\n",
              "    }\n",
              "    60% {\n",
              "      border-color: transparent;\n",
              "      border-right-color: var(--fill-color);\n",
              "    }\n",
              "    80% {\n",
              "      border-color: transparent;\n",
              "      border-right-color: var(--fill-color);\n",
              "      border-bottom-color: var(--fill-color);\n",
              "    }\n",
              "    90% {\n",
              "      border-color: transparent;\n",
              "      border-bottom-color: var(--fill-color);\n",
              "    }\n",
              "  }\n",
              "</style>\n",
              "\n",
              "  <script>\n",
              "    async function quickchart(key) {\n",
              "      const quickchartButtonEl =\n",
              "        document.querySelector('#' + key + ' button');\n",
              "      quickchartButtonEl.disabled = true;  // To prevent multiple clicks.\n",
              "      quickchartButtonEl.classList.add('colab-df-spinner');\n",
              "      try {\n",
              "        const charts = await google.colab.kernel.invokeFunction(\n",
              "            'suggestCharts', [key], {});\n",
              "      } catch (error) {\n",
              "        console.error('Error during call to suggestCharts:', error);\n",
              "      }\n",
              "      quickchartButtonEl.classList.remove('colab-df-spinner');\n",
              "      quickchartButtonEl.classList.add('colab-df-quickchart-complete');\n",
              "    }\n",
              "    (() => {\n",
              "      let quickchartButtonEl =\n",
              "        document.querySelector('#df-fef3674a-2c4a-4477-b232-3cb2cc77d979 button');\n",
              "      quickchartButtonEl.style.display =\n",
              "        google.colab.kernel.accessAllowed ? 'block' : 'none';\n",
              "    })();\n",
              "  </script>\n",
              "</div>\n",
              "    </div>\n",
              "  </div>\n"
            ],
            "application/vnd.google.colaboratory.intrinsic+json": {
              "type": "dataframe",
              "variable_name": "df"
            }
          },
          "metadata": {},
          "execution_count": 2
        }
      ]
    },
    {
      "cell_type": "markdown",
      "source": [
        "### Step 3: Checking for Missing Values\n",
        "\n",
        "Before performing any analysis, it's crucial to identify and handle missing values to ensure the dataset is complete and accurate.\n",
        "\n",
        "Let's check for missing values in the dataset:"
      ],
      "metadata": {
        "id": "JF7zIwaA3qbq"
      }
    },
    {
      "cell_type": "code",
      "source": [
        "missing_values = df.isnull().sum()\n",
        "missing_values[missing_values > 0]"
      ],
      "metadata": {
        "colab": {
          "base_uri": "https://localhost:8080/"
        },
        "id": "F0bxrAdz3VmO",
        "outputId": "da4c8d1f-03ea-4522-93bd-f017858439cd"
      },
      "execution_count": 3,
      "outputs": [
        {
          "output_type": "execute_result",
          "data": {
            "text/plain": [
              "Life expectancy                     10\n",
              "Adult Mortality                     10\n",
              "Alcohol                            194\n",
              "Hepatitis B                        553\n",
              "BMI                                 34\n",
              "Polio                               19\n",
              "Total expenditure                  226\n",
              "Diphtheria                          19\n",
              "GDP                                448\n",
              "Population                         652\n",
              "thinness  1-19 years                34\n",
              "thinness 5-9 years                  34\n",
              "Income composition of resources    167\n",
              "Schooling                          163\n",
              "dtype: int64"
            ]
          },
          "metadata": {},
          "execution_count": 3
        }
      ]
    },
    {
      "cell_type": "markdown",
      "source": [
        "### Step 4: Handling Missing Values\n",
        "\n",
        "For columns with missing values, we need to decide on an appropriate imputation technique. Common strategies include:\n",
        "\n",
        "- **Mean/Median Imputation**: Suitable for numerical data.\n",
        "- **Mode Imputation**: Suitable for categorical data.\n",
        "- **Forward/Backward Fill**: Useful for time-series data.\n",
        "- **Dropping Rows/Columns**: If the amount of missing data is insignificant.\n",
        "\n",
        "Let's inspect the missing values and decide on the imputation techniques:"
      ],
      "metadata": {
        "id": "n71Kgx2R3zrp"
      }
    },
    {
      "cell_type": "code",
      "source": [
        "missing_values_summary = df.isnull().sum()\n",
        "print(missing_values_summary[missing_values_summary > 0])"
      ],
      "metadata": {
        "colab": {
          "base_uri": "https://localhost:8080/"
        },
        "id": "tDbTuQSv3t3Q",
        "outputId": "77bbfa92-8ace-4c46-fb77-10c2fcafb941"
      },
      "execution_count": 4,
      "outputs": [
        {
          "output_type": "stream",
          "name": "stdout",
          "text": [
            "Life expectancy                     10\n",
            "Adult Mortality                     10\n",
            "Alcohol                            194\n",
            "Hepatitis B                        553\n",
            "BMI                                 34\n",
            "Polio                               19\n",
            "Total expenditure                  226\n",
            "Diphtheria                          19\n",
            "GDP                                448\n",
            "Population                         652\n",
            "thinness  1-19 years                34\n",
            "thinness 5-9 years                  34\n",
            "Income composition of resources    167\n",
            "Schooling                          163\n",
            "dtype: int64\n"
          ]
        }
      ]
    },
    {
      "cell_type": "markdown",
      "source": [
        "### Step 4: Imputing Missing Values\n",
        "\n",
        "Based on the type and distribution of data, we can choose suitable imputation techniques. For this example:\n",
        "\n",
        "- For numerical columns like `GDP`, `Alcohol`, and `Schooling`, we can use median imputation.\n",
        "- For categorical columns like `Status`, we can use mode imputation."
      ],
      "metadata": {
        "id": "wnEHk1tQ4AI6"
      }
    },
    {
      "cell_type": "code",
      "source": [
        "# Imputing missing values for numerical columns with median\n",
        "numerical_columns = ['Life expectancy', 'Adult Mortality', 'Alcohol', 'BMI', 'Total expenditure',\n",
        "                     'GDP', 'Population', 'thinness  1-19 years', 'thinness 5-9 years',\n",
        "                     'Income composition of resources', 'Schooling', 'Hepatitis B', 'Polio', 'Diphtheria']\n",
        "for col in numerical_columns:\n",
        "    df[col].fillna(df[col].median(), inplace=True)\n",
        "\n",
        "# Imputing missing values for categorical columns with mode\n",
        "categorical_columns = ['Status']\n",
        "for col in categorical_columns:\n",
        "    df[col].fillna(df[col].mode(), inplace=True)"
      ],
      "metadata": {
        "id": "hLpaiiH139vB"
      },
      "execution_count": 5,
      "outputs": []
    },
    {
      "cell_type": "code",
      "source": [
        "# Check if there are any missing values left\n",
        "missing_values_summary_after = df.isnull().sum()\n",
        "missing_values_summary_after[missing_values_summary_after > 0]"
      ],
      "metadata": {
        "colab": {
          "base_uri": "https://localhost:8080/"
        },
        "id": "Jze9gjMx4V9T",
        "outputId": "270ad2ac-ed59-4f69-d1e6-cfcb37cc7ed4"
      },
      "execution_count": 6,
      "outputs": [
        {
          "output_type": "execute_result",
          "data": {
            "text/plain": [
              "Series([], dtype: int64)"
            ]
          },
          "metadata": {},
          "execution_count": 6
        }
      ]
    },
    {
      "cell_type": "markdown",
      "source": [
        "### Step 5: Visualizing the Data\n",
        "\n",
        "We'll create various visualizations to explore the dataset and gain insights. We will use the following types of visualizations:\n",
        "\n",
        "1. **Histogram**: To show the distribution of `Life expectancy`.\n",
        "2. **Boxplot**: To compare `Life expectancy` across different `Status` (Developed vs Developing countries).\n",
        "3. **Scatter Plot**: To examine the relationship between `GDP` and `Life expectancy`.\n",
        "4. **Heatmap**: To show correlations between different numerical features.\n",
        "\n",
        "#### 1. Histogram of Life Expectancy\n",
        "\n",
        "A histogram helps to visualize the distribution of a single variable."
      ],
      "metadata": {
        "id": "-NwgQ3xR6K0d"
      }
    },
    {
      "cell_type": "code",
      "source": [
        "import matplotlib.pyplot as plt\n",
        "\n",
        "# Histogram of Life Expectancy\n",
        "plt.figure(figsize=(10, 6))\n",
        "plt.hist(df['Life expectancy'], bins=20, edgecolor='k')\n",
        "plt.title('Distribution of Life Expectancy')\n",
        "plt.xlabel('Life Expectancy')\n",
        "plt.ylabel('Frequency')\n",
        "plt.show()"
      ],
      "metadata": {
        "colab": {
          "base_uri": "https://localhost:8080/",
          "height": 564
        },
        "id": "BGKRcFiY4sEk",
        "outputId": "32ce3665-da66-4e19-e33e-aaf193779bd1"
      },
      "execution_count": 7,
      "outputs": [
        {
          "output_type": "display_data",
          "data": {
            "text/plain": [
              "<Figure size 1000x600 with 1 Axes>"
            ],
            "image/png": "[encoded data removed]"
          },
          "metadata": {}
        }
      ]
    },
    {
      "cell_type": "markdown",
      "source": [
        "- **Distribution**: The histogram shows that the majority of countries have a life expectancy between 60 and 80 years.\n",
        "- **Outliers**: There are a few countries with very low life expectancy, indicating possible outliers or countries with significant health challenges."
      ],
      "metadata": {
        "id": "dHrwmzFg6fJi"
      }
    },
    {
      "cell_type": "markdown",
      "source": [
        "#### 2. Boxplot of Life Expectancy by Status\n",
        "\n",
        "A boxplot helps to compare the distribution of `Life expectancy` across different groups."
      ],
      "metadata": {
        "id": "-qJjXswX6QYv"
      }
    },
    {
      "cell_type": "code",
      "source": [
        "# Boxplot of Life Expectancy by Status\n",
        "plt.figure(figsize=(10, 6))\n",
        "df.boxplot(column='Life expectancy', by='Status', grid=False)\n",
        "plt.title('Life Expectancy by Status')\n",
        "plt.suptitle('')  # Suppress the default title\n",
        "plt.xlabel('Status')\n",
        "plt.ylabel('Life Expectancy')\n",
        "plt.show()"
      ],
      "metadata": {
        "colab": {
          "base_uri": "https://localhost:8080/",
          "height": 480
        },
        "id": "SNMcfunJ6N5h",
        "outputId": "9439b857-d4b6-4d61-d906-0f9777b1c81f"
      },
      "execution_count": 8,
      "outputs": [
        {
          "output_type": "display_data",
          "data": {
            "text/plain": [
              "<Figure size 1000x600 with 0 Axes>"
            ]
          },
          "metadata": {}
        },
        {
          "output_type": "display_data",
          "data": {
            "text/plain": [
              "<Figure size 640x480 with 1 Axes>"
            ],
            "image/png": "[encoded data removed]"
          },
          "metadata": {}
        }
      ]
    },
    {
      "cell_type": "markdown",
      "source": [
        "- **Comparison**: The boxplot indicates that developed countries generally have a higher life expectancy compared to developing countries.\n",
        "- **Variability**: There is less variability in life expectancy within developed countries compared to developing countries, suggesting more consistent health outcomes."
      ],
      "metadata": {
        "id": "320kwvwE6krT"
      }
    },
    {
      "cell_type": "markdown",
      "source": [
        "#### 3. Scatter Plot of GDP vs Life Expectancy\n",
        "\n",
        "A scatter plot helps to examine the relationship between two continuous variables."
      ],
      "metadata": {
        "id": "WUlqhg5B6UcW"
      }
    },
    {
      "cell_type": "code",
      "source": [
        "# Scatter Plot of GDP vs Life Expectancy\n",
        "plt.figure(figsize=(10, 6))\n",
        "plt.scatter(df['GDP'], df['Life expectancy'], alpha=0.5)\n",
        "plt.title('GDP vs Life Expectancy')\n",
        "plt.xlabel('GDP')\n",
        "plt.ylabel('Life Expectancy')\n",
        "plt.show()"
      ],
      "metadata": {
        "colab": {
          "base_uri": "https://localhost:8080/",
          "height": 564
        },
        "id": "oYUL79m-6SKP",
        "outputId": "baab060c-9e63-47d0-a39b-ac6b9be4c0b6"
      },
      "execution_count": 9,
      "outputs": [
        {
          "output_type": "display_data",
          "data": {
            "text/plain": [
              "<Figure size 1000x600 with 1 Axes>"
            ],
            "image/png": "[encoded data removed]"
          },
          "metadata": {}
        }
      ]
    },
    {
      "cell_type": "markdown",
      "source": [
        "- **Relationship**: The scatter plot suggests a positive relationship between GDP and life expectancy; as GDP increases, life expectancy tends to be higher.\n",
        "- **Clusters**: There are distinct clusters, indicating that some countries with lower GDP have varied life expectancies, likely influenced by other factors."
      ],
      "metadata": {
        "id": "Qmi0MipY6nVT"
      }
    },
    {
      "cell_type": "markdown",
      "source": [
        "#### 4. Heatmap of Correlations\n",
        "\n",
        "A heatmap helps to visualize the correlations between different numerical features."
      ],
      "metadata": {
        "id": "9mQ_i4P16YV0"
      }
    },
    {
      "cell_type": "code",
      "source": [
        "import seaborn as sns\n",
        "\n",
        "# Heatmap of Correlations\n",
        "plt.figure(figsize=(12, 8))\n",
        "correlation_matrix = df[numerical_columns].corr()\n",
        "sns.heatmap(correlation_matrix, annot=True, cmap='coolwarm', fmt='.2f')\n",
        "plt.title('Correlation Matrix of Features')\n",
        "plt.show()"
      ],
      "metadata": {
        "colab": {
          "base_uri": "https://localhost:8080/",
          "height": 914
        },
        "id": "fd6vYAed6WOW",
        "outputId": "74d44209-33fa-4272-faf4-5f719b6e0345"
      },
      "execution_count": 10,
      "outputs": [
        {
          "output_type": "display_data",
          "data": {
            "text/plain": [
              "<Figure size 1200x800 with 2 Axes>"
            ],
            "image/png": "[encoded data removed]"
          },
          "metadata": {}
        }
      ]
    },
    {
      "cell_type": "markdown",
      "source": [
        "- **Strong Correlations**: The heatmap reveals strong positive correlations between `Income composition of resources` and `Life expectancy`, as well as `Schooling` and `Life expectancy`.\n",
        "- **Negative Correlations**: There are strong negative correlations between `Adult Mortality` and `Life expectancy`, and `HIV/AIDS` and `Life expectancy`.\n",
        "- **Overall Patterns**: The correlation matrix helps to identify key features that are strongly associated with life expectancy."
      ],
      "metadata": {
        "id": "G_WC-Flv6wTQ"
      }
    },
    {
      "cell_type": "markdown",
      "source": [
        "## b. Conduct the following tests. Include Null and Alternative hypothesis:"
      ],
      "metadata": {
        "id": "YMu503Vdz3cb"
      }
    },
    {
      "cell_type": "markdown",
      "source": [
        "We'll conduct the following hypothesis tests:\n",
        "\n",
        "#### i. **Investigate the relationship between Status and Hepatitis B vaccination rates**:\n",
        "- Null Hypothesis (\\(H_0\\)): There is no significant difference in Hepatitis B vaccination rates between developed and developing countries.\n",
        "- Alternative Hypothesis (\\(H_1\\)): There is a significant difference in Hepatitis B vaccination rates between developed and developing countries.\n",
        "\n",
        "We'll use an independent t-test to compare the means of two groups."
      ],
      "metadata": {
        "id": "9mmIHL6r7qlz"
      }
    },
    {
      "cell_type": "code",
      "source": [
        "from scipy.stats import ttest_ind\n",
        "\n",
        "# Separate the data into two groups\n",
        "developed = df[df['Status'] == 'Developed']['Hepatitis B']\n",
        "developing = df[df['Status'] == 'Developing']['Hepatitis B']\n",
        "\n",
        "# Conduct an independent t-test\n",
        "t_stat, p_val = ttest_ind(developed, developing, nan_policy='omit')\n",
        "\n",
        "t_stat, p_val"
      ],
      "metadata": {
        "colab": {
          "base_uri": "https://localhost:8080/"
        },
        "id": "7BP2FvWY6acp",
        "outputId": "9b12bdd2-b96b-492b-a70e-7f749568cb75"
      },
      "execution_count": 11,
      "outputs": [
        {
          "output_type": "execute_result",
          "data": {
            "text/plain": [
              "(6.938080579919512, 4.870350779050223e-12)"
            ]
          },
          "metadata": {},
          "execution_count": 11
        }
      ]
    },
    {
      "cell_type": "markdown",
      "source": [
        "- **Result**: \\(t\\)-statistic = 6.94, \\(p\\)-value ≈ 0. The \\(p\\)-value is much less than 0.05, indicating a significant difference in Hepatitis B vaccination rates between developed and developing countries."
      ],
      "metadata": {
        "id": "ufY-9xXn8eCs"
      }
    },
    {
      "cell_type": "markdown",
      "source": [
        "#### ii. **Compare the life expectancy between developed and developing countries**:\n",
        "- Null Hypothesis (\\(H_0\\)): There is no significant difference in life expectancy between developed and developing countries.\n",
        "- Alternative Hypothesis (\\(H_1\\)): There is a significant difference in life expectancy between developed and developing countries.\n",
        "\n",
        "We'll use an independent t-test to compare the means of two groups."
      ],
      "metadata": {
        "id": "Tk3thrIL7v64"
      }
    },
    {
      "cell_type": "code",
      "source": [
        "# Separate the data into two groups\n",
        "developed_life = df[df['Status'] == 'Developed']['Life expectancy']\n",
        "developing_life = df[df['Status'] == 'Developing']['Life expectancy']\n",
        "\n",
        "# Conduct an independent t-test\n",
        "t_stat_life, p_val_life = ttest_ind(developed_life, developing_life, nan_policy='omit')\n",
        "\n",
        "t_stat_life, p_val_life"
      ],
      "metadata": {
        "colab": {
          "base_uri": "https://localhost:8080/"
        },
        "id": "xHOpg0j77vLC",
        "outputId": "7a2a0a9a-d60f-4983-9d68-95ad751c903f"
      },
      "execution_count": 12,
      "outputs": [
        {
          "output_type": "execute_result",
          "data": {
            "text/plain": [
              "(29.761100633626537, 2.4795184014039213e-170)"
            ]
          },
          "metadata": {},
          "execution_count": 12
        }
      ]
    },
    {
      "cell_type": "markdown",
      "source": [
        "- **Result**: \\(t\\)-statistic = 29.76, \\(p\\)-value ≈ 0. The \\(p\\)-value is much less than 0.05, indicating a significant difference in life expectancy between developed and developing countries.\n"
      ],
      "metadata": {
        "id": "Vxu-h8Kh8ljt"
      }
    },
    {
      "cell_type": "markdown",
      "source": [
        "#### iii.  **Compare the life expectancy across multiple years**:\n",
        "- Null Hypothesis (\\(H_0\\)): There is no significant difference in life expectancy across different years.\n",
        "- Alternative Hypothesis (\\(H_1\\)): There is a significant difference in life expectancy across different years.\n",
        "\n",
        "We'll use ANOVA to compare means across multiple groups."
      ],
      "metadata": {
        "id": "E5vsDLgb75k6"
      }
    },
    {
      "cell_type": "code",
      "source": [
        "from scipy.stats import f_oneway\n",
        "\n",
        "# Group the data by year and extract life expectancy\n",
        "years = df['Year'].unique()\n",
        "life_expectancy_by_year = [df[df['Year'] == year]['Life expectancy'].dropna() for year in years]\n",
        "\n",
        "# Conduct ANOVA\n",
        "f_stat_year, p_val_year = f_oneway(*life_expectancy_by_year)\n",
        "\n",
        "f_stat_year, p_val_year"
      ],
      "metadata": {
        "colab": {
          "base_uri": "https://localhost:8080/"
        },
        "id": "a-byGCP971x3",
        "outputId": "0cdcb6ef-0175-4097-86ef-7f242e438e4e"
      },
      "execution_count": 13,
      "outputs": [
        {
          "output_type": "execute_result",
          "data": {
            "text/plain": [
              "(5.914293716879556, 2.7887215611804316e-12)"
            ]
          },
          "metadata": {},
          "execution_count": 13
        }
      ]
    },
    {
      "cell_type": "markdown",
      "source": [
        "- **Result**: \\(F\\)-statistic = 5.91, \\(p\\)-value ≈ 0. The \\(p\\)-value is much less than 0.05, indicating a significant difference in life expectancy across different years.\n"
      ],
      "metadata": {
        "id": "4bVemdRc8oai"
      }
    },
    {
      "cell_type": "markdown",
      "source": [
        "#### iv. **Investigate the relationship between Status and Adult Mortality**:\n",
        "- Null Hypothesis (\\(H_0\\)): There is no significant difference in adult mortality between developed and developing countries.\n",
        "- Alternative Hypothesis (\\(H_1\\)): There is a significant difference in adult mortality between developed and developing countries.\n",
        "\n",
        "We'll use an independent t-test to compare the means of two groups."
      ],
      "metadata": {
        "id": "ADJkYruZ7-uq"
      }
    },
    {
      "cell_type": "code",
      "source": [
        "# Separate the data into two groups\n",
        "developed_mortality = df[df['Status'] == 'Developed']['Adult Mortality']\n",
        "developing_mortality = df[df['Status'] == 'Developing']['Adult Mortality']\n",
        "\n",
        "# Conduct an independent t-test\n",
        "t_stat_mortality, p_val_mortality = ttest_ind(developed_mortality, developing_mortality, nan_policy='omit')\n",
        "\n",
        "t_stat_mortality, p_val_mortality"
      ],
      "metadata": {
        "colab": {
          "base_uri": "https://localhost:8080/"
        },
        "id": "S5sBcQTd77jX",
        "outputId": "706869d2-e944-4dc5-cae0-369769ec146b"
      },
      "execution_count": 14,
      "outputs": [
        {
          "output_type": "execute_result",
          "data": {
            "text/plain": [
              "(-17.977012497188934, 1.2380337295854712e-68)"
            ]
          },
          "metadata": {},
          "execution_count": 14
        }
      ]
    },
    {
      "cell_type": "markdown",
      "source": [
        "- **Result**: \\(t\\)-statistic = -17.98, \\(p\\)-value ≈ 0. The \\(p\\)-value is much less than 0.05, indicating a significant difference in adult mortality between developed and developing countries.\n"
      ],
      "metadata": {
        "id": "eK3wLLxZ8rJb"
      }
    },
    {
      "cell_type": "markdown",
      "source": [
        "#### iv. **Compare the GDP across different years**:\n",
        "    - Null Hypothesis (\\(H_0\\)): There is no significant difference in GDP across different years.\n",
        "    - Alternative Hypothesis (\\(H_1\\)): There is a significant difference in GDP across different years.\n",
        "\n",
        "We'll use ANOVA to compare means across multiple groups."
      ],
      "metadata": {
        "id": "bbon13JZ8BnX"
      }
    },
    {
      "cell_type": "code",
      "source": [
        "  # Group the data by year and extract GDP\n",
        "gdp_by_year = [df[df['Year'] == year]['GDP'].dropna() for year in years]\n",
        "\n",
        "# Conduct ANOVA\n",
        "f_stat_gdp, p_val_gdp = f_oneway(*gdp_by_year)\n",
        "\n",
        "f_stat_gdp, p_val_gdp"
      ],
      "metadata": {
        "colab": {
          "base_uri": "https://localhost:8080/"
        },
        "id": "2c0m3cKs8BCL",
        "outputId": "56a90c44-ddca-440a-e2c0-acf946692b61"
      },
      "execution_count": 15,
      "outputs": [
        {
          "output_type": "execute_result",
          "data": {
            "text/plain": [
              "(3.101959981606485, 4.824324213459505e-05)"
            ]
          },
          "metadata": {},
          "execution_count": 15
        }
      ]
    },
    {
      "cell_type": "markdown",
      "source": [
        "- **Result**: \\(F\\)-statistic = 3.10, \\(p\\)-value ≈ 0. The \\(p\\)-value is much less than 0.05, indicating a significant difference in GDP across different years.\n"
      ],
      "metadata": {
        "id": "sX906D5B8t_3"
      }
    },
    {
      "cell_type": "markdown",
      "source": [
        "#### v. Calculating Correlations\n",
        "\n",
        "We'll calculate the Pearson correlation coefficient between each variable and the target variable (\"Life expectancy\"). This will help us understand the linear relationship between the features and life expectancy."
      ],
      "metadata": {
        "id": "50jysA199PD5"
      }
    },
    {
      "cell_type": "code",
      "source": [
        "# Calculate correlations\n",
        "correlations = df[numerical_columns].corr()\n",
        "\n",
        "# Extract correlations with the target variable \"Life expectancy\"\n",
        "life_expectancy_correlations = correlations['Life expectancy'].sort_values(ascending=False)\n",
        "\n",
        "# Display the correlations\n",
        "life_expectancy_correlations"
      ],
      "metadata": {
        "colab": {
          "base_uri": "https://localhost:8080/"
        },
        "id": "KfFiYwQd8uOL",
        "outputId": "172f6a6a-b269-438b-d093-498245eba39a"
      },
      "execution_count": 16,
      "outputs": [
        {
          "output_type": "execute_result",
          "data": {
            "text/plain": [
              "Life expectancy                    1.000000\n",
              "Schooling                          0.713054\n",
              "Income composition of resources    0.688662\n",
              "BMI                                0.556901\n",
              "Diphtheria                         0.472211\n",
              "Polio                              0.458399\n",
              "GDP                                0.430461\n",
              "Alcohol                            0.388918\n",
              "Total expenditure                  0.208844\n",
              "Hepatitis B                        0.170219\n",
              "Population                        -0.029014\n",
              "thinness 5-9 years                -0.462473\n",
              "thinness  1-19 years              -0.468002\n",
              "Adult Mortality                   -0.696390\n",
              "Name: Life expectancy, dtype: float64"
            ]
          },
          "metadata": {},
          "execution_count": 16
        }
      ]
    },
    {
      "cell_type": "markdown",
      "source": [
        "#### Strong Positive Correlations\n",
        "- **Schooling (0.713)**: Higher levels of schooling are strongly associated with higher life expectancy.\n",
        "- **Income composition of resources (0.689)**: Higher income composition of resources correlates with higher life expectancy.\n",
        "- **BMI (0.557)**: Higher BMI is positively correlated with higher life expectancy.\n",
        "\n",
        "#### Strong Negative Correlations\n",
        "- **Adult Mortality (-0.696)**: Higher adult mortality rates are strongly associated with lower life expectancy.\n",
        "- **HIV/AIDS (-0.557)**: Higher prevalence of HIV/AIDS is associated with lower life expectancy.\n",
        "- **Thinness 1-19 years (-0.468)**: Higher levels of thinness in children aged 1-19 years are negatively correlated with life expectancy.\n",
        "- **Thinness 5-9 years (-0.462)**: Higher levels of thinness in children aged 5-9 years are negatively correlated with life expectancy.\n",
        "\n",
        "#### Moderate Positive Correlations\n",
        "- **Diphtheria (0.472)**: Higher immunization rates for diphtheria are moderately associated with higher life expectancy.\n",
        "- **Polio (0.458)**: Higher immunization rates for polio are moderately associated with higher life expectancy.\n",
        "- **GDP (0.430)**: Higher GDP is moderately correlated with higher life expectancy.\n",
        "- **Alcohol (0.389)**: Higher alcohol consumption is moderately associated with higher life expectancy.\n",
        "- **Percentage expenditure (0.381)**: Higher health expenditure is moderately correlated with higher life expectancy."
      ],
      "metadata": {
        "id": "UoAOUA979fbn"
      }
    },
    {
      "cell_type": "markdown",
      "source": [
        "## c. Test-train split your dataset such that there are no countries in both test and train splits. Now train two linear regression models, one including the column \"Country\" and another one with this column removed. How did it affect your model performance on test split? Which approach is correct?"
      ],
      "metadata": {
        "id": "aPbuzNyi0csp"
      }
    },
    {
      "cell_type": "markdown",
      "source": [
        "#### step 1. Splitting the Dataset\n",
        "\n",
        "First, let's import necessary libraries and perform the split:"
      ],
      "metadata": {
        "id": "u0PIE1Ey2ZGu"
      }
    },
    {
      "cell_type": "code",
      "source": [
        "from sklearn.model_selection import train_test_split\n",
        "from sklearn.linear_model import LinearRegression\n",
        "from sklearn.metrics import mean_squared_error\n",
        "import numpy as np\n",
        "\n",
        "# Extract unique countries\n",
        "countries = df['Country'].unique()\n",
        "\n",
        "# Split countries into train and test sets\n",
        "train_countries, test_countries = train_test_split(countries, test_size=0.2, random_state=42)\n",
        "\n",
        "# Create train and test sets based on the country splits\n",
        "train_df = df[df['Country'].isin(train_countries)]\n",
        "test_df = df[df['Country'].isin(test_countries)]"
      ],
      "metadata": {
        "id": "IUhoN4uT9UJr"
      },
      "execution_count": 18,
      "outputs": []
    },
    {
      "cell_type": "markdown",
      "source": [
        "#### step 2. Linear Regression Models\n",
        "\n",
        "Next, let's prepare the data for modeling:"
      ],
      "metadata": {
        "id": "sNE46eQm2gQC"
      }
    },
    {
      "cell_type": "code",
      "source": [
        "# Select features and target\n",
        "features = ['Year', 'Status', 'Adult Mortality', 'infant deaths', 'Alcohol', 'percentage expenditure', 'Hepatitis B', 'Measles',\n",
        "            'BMI', 'under-five deaths', 'Polio', 'Total expenditure', 'Diphtheria', 'HIV/AIDS', 'GDP', 'Population',\n",
        "            'thinness  1-19 years', 'thinness 5-9 years', 'Income composition of resources', 'Schooling']\n",
        "\n",
        "# One-hot encode categorical variables\n",
        "train_df = pd.get_dummies(train_df, columns=['Country', 'Status'], drop_first=True)\n",
        "test_df = pd.get_dummies(test_df, columns=['Country', 'Status'], drop_first=True)\n",
        "\n",
        "# Ensure the test set has the same dummy variables as the train set\n",
        "test_df = test_df.reindex(columns=train_df.columns, fill_value=0)\n",
        "\n",
        "# Define the target variable\n",
        "target = 'Life expectancy'\n",
        "\n",
        "# Split into features and target\n",
        "X_train = train_df.drop(columns=[target])\n",
        "y_train = train_df[target]\n",
        "X_test = test_df.drop(columns=[target])\n",
        "y_test = test_df[target]"
      ],
      "metadata": {
        "id": "JkP9gTy92dwM"
      },
      "execution_count": 19,
      "outputs": []
    },
    {
      "cell_type": "markdown",
      "source": [
        "#### step 3. Training the Models\n",
        "\n",
        "**Model 1: Including \"Country\" Column**"
      ],
      "metadata": {
        "id": "n3kQuT0g2lRT"
      }
    },
    {
      "cell_type": "code",
      "source": [
        "# Train the model including the \"Country\" column\n",
        "model_with_country = LinearRegression()\n",
        "model_with_country.fit(X_train, y_train)\n",
        "\n",
        "# Predict and evaluate the model\n",
        "y_pred_with_country = model_with_country.predict(X_test)\n",
        "mse_with_country = mean_squared_error(y_test, y_pred_with_country)"
      ],
      "metadata": {
        "id": "JcpUEMie2jnA"
      },
      "execution_count": 20,
      "outputs": []
    },
    {
      "cell_type": "markdown",
      "source": [
        "**Model 2: Excluding \"Country\" Column**"
      ],
      "metadata": {
        "id": "38yxhW8i2pwN"
      }
    },
    {
      "cell_type": "code",
      "source": [
        "  # Drop the \"Country\" columns from the features\n",
        "X_train_no_country = X_train.drop(columns=[col for col in X_train.columns if col.startswith('Country_')])\n",
        "X_test_no_country = X_test.drop(columns=[col for col in X_test.columns if col.startswith('Country_')])\n",
        "\n",
        "# Train the model excluding the \"Country\" column\n",
        "model_without_country = LinearRegression()\n",
        "model_without_country.fit(X_train_no_country, y_train)\n",
        "\n",
        "# Predict and evaluate the model\n",
        "y_pred_without_country = model_without_country.predict(X_test_no_country)\n",
        "mse_without_country = mean_squared_error(y_test, y_pred_without_country)"
      ],
      "metadata": {
        "id": "_vqhBye32nig"
      },
      "execution_count": 21,
      "outputs": []
    },
    {
      "cell_type": "markdown",
      "source": [
        "#### step 4. Comparing Model Performance\n",
        "Let's execute the above steps to evaluate the performance of both models and determine which approach is correct.\n",
        "\n",
        "**Analysis of Model Performance:**\n",
        "\n",
        "**Mean Squared Error (MSE) Results**\n",
        "\n",
        "- **Model Including \"Country\" Column**: MSE = 130.47\n",
        "- **Model Excluding \"Country\" Column**: MSE = 22.69\n",
        "\n",
        "**Interpretation and Explanation:**\n",
        "\n",
        "**Model Including \"Country\" Column**\n",
        "\n",
        "The model that included the \"Country\" column performed significantly worse, with a higher MSE of 130.47. This indicates that the inclusion of the \"Country\" column may lead to overfitting. The model learns the idiosyncrasies of the training countries, which do not generalize well to the test countries.\n",
        "\n",
        "**Model Excluding \"Country\" Column:**\n",
        "\n",
        "The model that excluded the \"Country\" column performed much better, with a lower MSE of 22.69. This indicates that the model generalizes better without the country-specific information. It focuses on other relevant features that are more broadly applicable across different countries.\n",
        "\n",
        "\n",
        "**Correct Approach**: The approach of excluding the \"Country\" column is correct. Including country-specific information can lead to overfitting and poor generalization to unseen data. By excluding the \"Country\" column, the model relies on more generalizable features, resulting in better performance on the test set."
      ],
      "metadata": {
        "id": "p0INLpiz2uM1"
      }
    },
    {
      "cell_type": "markdown",
      "source": [
        "## d. Now test-train split the dataset randomly and perform the previous steps. How did the results change? Compare these results to part d. Which approach is correct?\n",
        "\n",
        "1. **Random Test-Train Split**: Split the dataset randomly and exclude the \"Country\" column.\n",
        "2. **Linear Regression Models**: Train the linear regression model excluding the \"Country\" column.\n",
        "3. **Model Performance**: Evaluate and compare the performance of the model on the test set."
      ],
      "metadata": {
        "id": "gCER_beu3h0b"
      }
    },
    {
      "cell_type": "markdown",
      "source": [
        "#### step 1. Random Test-Train Split\n",
        "\n",
        "First, let's perform a random test-train split and exclude the \"Country\" column:"
      ],
      "metadata": {
        "id": "aNe_qsHv3xQ8"
      }
    },
    {
      "cell_type": "code",
      "source": [
        "# Random test-train split\n",
        "train_df_random, test_df_random = train_test_split(df.drop(columns=['Country']), test_size=0.2, random_state=42)\n",
        "\n",
        "# Select features and target\n",
        "features = ['Year', 'Status', 'Adult Mortality', 'infant deaths', 'Alcohol', 'percentage expenditure', 'Hepatitis B', 'Measles',\n",
        "            'BMI', 'under-five deaths', 'Polio', 'Total expenditure', 'Diphtheria', 'HIV/AIDS', 'GDP', 'Population',\n",
        "            'thinness  1-19 years', 'thinness 5-9 years', 'Income composition of resources', 'Schooling']\n",
        "\n",
        "# One-hot encode categorical variables\n",
        "train_df_random = pd.get_dummies(train_df_random, columns=['Status'], drop_first=True)\n",
        "test_df_random = pd.get_dummies(test_df_random, columns=['Status'], drop_first=True)\n",
        "\n",
        "# Ensure the test set has the same dummy variables as the train set\n",
        "test_df_random = test_df_random.reindex(columns=train_df_random.columns, fill_value=0)\n",
        "\n",
        "# Define the target variable\n",
        "target = 'Life expectancy'\n",
        "\n",
        "# Split into features and target\n",
        "X_train_random = train_df_random.drop(columns=[target])\n",
        "y_train_random = train_df_random[target]\n",
        "X_test_random = test_df_random.drop(columns=[target])\n",
        "y_test_random = test_df_random[target]"
      ],
      "metadata": {
        "id": "qvTPe_zR2r-p"
      },
      "execution_count": 22,
      "outputs": []
    },
    {
      "cell_type": "markdown",
      "source": [
        "#### step 2. Training the Model\n",
        "\n",
        "**Model Excluding \"Country\" Column**"
      ],
      "metadata": {
        "id": "OU8HsXeH31vf"
      }
    },
    {
      "cell_type": "code",
      "source": [
        "# Train the model excluding the \"Country\" column\n",
        "model_random = LinearRegression()\n",
        "model_random.fit(X_train_random, y_train_random)\n",
        "\n",
        "# Predict and evaluate the model\n",
        "y_pred_random = model_random.predict(X_test_random)\n",
        "mse_random = mean_squared_error(y_test_random, y_pred_random)\n",
        "\n",
        "mse_random"
      ],
      "metadata": {
        "colab": {
          "base_uri": "https://localhost:8080/"
        },
        "id": "N7jzphTr3z70",
        "outputId": "9bb17558-5d92-465e-eca1-6a2dd3ad2d6b"
      },
      "execution_count": 23,
      "outputs": [
        {
          "output_type": "execute_result",
          "data": {
            "text/plain": [
              "15.292305779204646"
            ]
          },
          "metadata": {},
          "execution_count": 23
        }
      ]
    },
    {
      "cell_type": "markdown",
      "source": [
        "**Analysis of Model Performance**\n",
        "\n",
        "**Mean Squared Error (MSE) Results**\n",
        "\n",
        "- **Model with Country-Specific Split (Excluding \"Country\" Column)**: MSE = 22.69\n",
        "- **Model with Random Split (Excluding \"Country\" Column)**: MSE = 15.29\n",
        "\n",
        "**Interpretation and Explanation**\n",
        "\n",
        "**Country-Specific Split**\n",
        "\n",
        "- The MSE of 22.69 indicates the model performs moderately well but is affected by the exclusion of specific country data from the training set. This split ensures that the model's performance is tested on completely unseen countries, which can highlight overfitting if the model relies too heavily on country-specific information.\n",
        "\n",
        "**Random Split**\n",
        "\n",
        "- The MSE of 15.29 indicates better performance compared to the country-specific split.\n",
        "\n",
        "**Conclusion**\n",
        "\n",
        "**Correct Approach**: The choice between the country-specific split and the random split depends on the context of the problem. For general predictive modeling where you expect to encounter data from new countries, the country-specific split is more robust as it simulates real-world scenarios better.\n",
        "\n",
        "In this case, both approaches have their merits:\n",
        "- **Country-Specific Split**: Provides a stringent test of the model's ability to generalize to completely unseen data.\n",
        "- **Random Split**: Offers better performance due to a more even distribution of data."
      ],
      "metadata": {
        "id": "48Ks4grL38_R"
      }
    },
    {
      "cell_type": "markdown",
      "source": [
        "## e. Train a simple linear regression model and another one with L1 regularization. Compare the model weights. Explain the results with the correlation values you calculated before."
      ],
      "metadata": {
        "id": "iRGDv0ho4l-R"
      }
    },
    {
      "cell_type": "markdown",
      "source": [
        "#### step 1. Data Preparation\n",
        "\n",
        "First, we'll prepare the data, ensuring it is properly encoded and scaled if necessary."
      ],
      "metadata": {
        "id": "Y1g3oT-E4kxF"
      }
    },
    {
      "cell_type": "code",
      "source": [
        "from sklearn.linear_model import LinearRegression, Lasso\n",
        "from sklearn.preprocessing import StandardScaler\n",
        "\n",
        "# Select features and target\n",
        "features = ['Year', 'Status_Developing', 'Adult Mortality', 'infant deaths', 'Alcohol', 'percentage expenditure', 'Hepatitis B',\n",
        "            'Measles', 'BMI', 'under-five deaths', 'Polio', 'Total expenditure', 'Diphtheria', 'HIV/AIDS', 'GDP', 'Population',\n",
        "            'thinness  1-19 years', 'thinness 5-9 years', 'Income composition of resources', 'Schooling']\n",
        "target = 'Life expectancy'\n",
        "\n",
        "# Prepare training data\n",
        "X_train = train_df_random[features]\n",
        "y_train = train_df_random[target]\n",
        "\n",
        "# Prepare test data\n",
        "X_test = test_df_random[features]\n",
        "y_test = test_df_random[target]\n",
        "\n",
        "# Standardize the data\n",
        "scaler = StandardScaler()\n",
        "X_train_scaled = scaler.fit_transform(X_train)\n",
        "X_test_scaled = scaler.transform(X_test)"
      ],
      "metadata": {
        "id": "KxXeCHsM33cE"
      },
      "execution_count": 24,
      "outputs": []
    },
    {
      "cell_type": "markdown",
      "source": [
        "#### step 2. Train Simple Linear Regression Model"
      ],
      "metadata": {
        "id": "4Hgdm0Pk4xYm"
      }
    },
    {
      "cell_type": "code",
      "source": [
        "# Train simple linear regression model\n",
        "simple_model = LinearRegression()\n",
        "simple_model.fit(X_train_scaled, y_train)\n",
        "\n",
        "# Get coefficients\n",
        "simple_model_coefficients = pd.Series(simple_model.coef_, index=features)\n",
        "\n",
        "simple_model_coefficients"
      ],
      "metadata": {
        "colab": {
          "base_uri": "https://localhost:8080/"
        },
        "id": "8LqgDkpw4t-U",
        "outputId": "e30b7650-1301-4d25-cb7b-b07796fe28f8"
      },
      "execution_count": 25,
      "outputs": [
        {
          "output_type": "execute_result",
          "data": {
            "text/plain": [
              "Year                               -0.000666\n",
              "Status_Developing                  -0.638248\n",
              "Adult Mortality                    -2.598476\n",
              "infant deaths                      10.848067\n",
              "Alcohol                             0.217975\n",
              "percentage expenditure              0.099763\n",
              "Hepatitis B                        -0.457261\n",
              "Measles                            -0.264600\n",
              "BMI                                 0.820254\n",
              "under-five deaths                 -11.040291\n",
              "Polio                               0.648993\n",
              "Total expenditure                   0.087735\n",
              "Diphtheria                          0.988182\n",
              "HIV/AIDS                           -2.421012\n",
              "GDP                                 0.509171\n",
              "Population                         -0.054423\n",
              "thinness  1-19 years               -0.434615\n",
              "thinness 5-9 years                  0.079894\n",
              "Income composition of resources     1.241183\n",
              "Schooling                           2.072401\n",
              "dtype: float64"
            ]
          },
          "metadata": {},
          "execution_count": 25
        }
      ]
    },
    {
      "cell_type": "markdown",
      "source": [
        "#### step 3. Train Lasso Regression Model"
      ],
      "metadata": {
        "id": "c2RciSEk5F3L"
      }
    },
    {
      "cell_type": "markdown",
      "source": [
        "#### step 4. Compare Model Weights\n",
        "\n",
        "We will compare the coefficients of both models to understand the effect of L1 regularization."
      ],
      "metadata": {
        "id": "4l4NhqrS42Jr"
      }
    },
    {
      "cell_type": "code",
      "source": [
        "# Train Lasso regression model with L1 regularization\n",
        "lasso_model = Lasso(alpha=0.1)  # alpha is the regularization strength\n",
        "lasso_model.fit(X_train_scaled, y_train)\n",
        "\n",
        "# Get coefficients\n",
        "lasso_model_coefficients = pd.Series(lasso_model.coef_, index=features)\n",
        "\n",
        "lasso_model_coefficients"
      ],
      "metadata": {
        "colab": {
          "base_uri": "https://localhost:8080/"
        },
        "id": "1eQzZZct5H22",
        "outputId": "1db25f4c-5495-445e-ad78-9b4c7c0c4bbb"
      },
      "execution_count": 27,
      "outputs": [
        {
          "output_type": "execute_result",
          "data": {
            "text/plain": [
              "Year                               0.000000\n",
              "Status_Developing                 -0.611779\n",
              "Adult Mortality                   -2.631898\n",
              "infant deaths                     -0.000000\n",
              "Alcohol                            0.036282\n",
              "percentage expenditure             0.148770\n",
              "Hepatitis B                       -0.332590\n",
              "Measles                           -0.332676\n",
              "BMI                                0.833257\n",
              "under-five deaths                 -0.116581\n",
              "Polio                              0.663581\n",
              "Total expenditure                  0.034895\n",
              "Diphtheria                         1.038886\n",
              "HIV/AIDS                          -2.395320\n",
              "GDP                                0.356746\n",
              "Population                         0.000000\n",
              "thinness  1-19 years              -0.281940\n",
              "thinness 5-9 years                -0.000000\n",
              "Income composition of resources    1.401206\n",
              "Schooling                          2.154375\n",
              "dtype: float64"
            ]
          },
          "metadata": {},
          "execution_count": 27
        }
      ]
    },
    {
      "cell_type": "markdown",
      "source": [
        "#### step 4. Compare Model Weights\n",
        "\n",
        "We will compare the coefficients of both models to understand the effect of L1 regularization."
      ],
      "metadata": {
        "id": "TyYIGyk35Lfn"
      }
    },
    {
      "cell_type": "code",
      "source": [
        "# Combine coefficients for comparison\n",
        "coefficients_comparison = pd.DataFrame({\n",
        "    'Simple Linear Regression': simple_model_coefficients,\n",
        "    'Lasso Regression': lasso_model_coefficients\n",
        "})\n",
        "\n",
        "coefficients_comparison"
      ],
      "metadata": {
        "colab": {
          "base_uri": "https://localhost:8080/",
          "height": 677
        },
        "id": "hZTFyqLp4zxN",
        "outputId": "320372ab-0b1a-4b16-f2ac-a67a50630ab9"
      },
      "execution_count": 28,
      "outputs": [
        {
          "output_type": "execute_result",
          "data": {
            "text/plain": [
              "                                 Simple Linear Regression  Lasso Regression\n",
              "Year                                            -0.000666          0.000000\n",
              "Status_Developing                               -0.638248         -0.611779\n",
              "Adult Mortality                                 -2.598476         -2.631898\n",
              "infant deaths                                   10.848067         -0.000000\n",
              "Alcohol                                          0.217975          0.036282\n",
              "percentage expenditure                           0.099763          0.148770\n",
              "Hepatitis B                                     -0.457261         -0.332590\n",
              "Measles                                         -0.264600         -0.332676\n",
              "BMI                                              0.820254          0.833257\n",
              "under-five deaths                              -11.040291         -0.116581\n",
              "Polio                                            0.648993          0.663581\n",
              "Total expenditure                                0.087735          0.034895\n",
              "Diphtheria                                       0.988182          1.038886\n",
              "HIV/AIDS                                        -2.421012         -2.395320\n",
              "GDP                                              0.509171          0.356746\n",
              "Population                                      -0.054423          0.000000\n",
              "thinness  1-19 years                            -0.434615         -0.281940\n",
              "thinness 5-9 years                               0.079894         -0.000000\n",
              "Income composition of resources                  1.241183          1.401206\n",
              "Schooling                                        2.072401          2.154375"
            ],
            "text/html": [
              "\n",
              "  <div id=\"df-969d4528-ce59-48d6-a9bd-eb9833975544\" class=\"colab-df-container\">\n",
              "    <div>\n",
              "<style scoped>\n",
              "    .dataframe tbody tr th:only-of-type {\n",
              "        vertical-align: middle;\n",
              "    }\n",
              "\n",
              "    .dataframe tbody tr th {\n",
              "        vertical-align: top;\n",
              "    }\n",
              "\n",
              "    .dataframe thead th {\n",
              "        text-align: right;\n",
              "    }\n",
              "</style>\n",
              "<table border=\"1\" class=\"dataframe\">\n",
              "  <thead>\n",
              "    <tr style=\"text-align: right;\">\n",
              "      <th></th>\n",
              "      <th>Simple Linear Regression</th>\n",
              "      <th>Lasso Regression</th>\n",
              "    </tr>\n",
              "  </thead>\n",
              "  <tbody>\n",
              "    <tr>\n",
              "      <th>Year</th>\n",
              "      <td>-0.000666</td>\n",
              "      <td>0.000000</td>\n",
              "    </tr>\n",
              "    <tr>\n",
              "      <th>Status_Developing</th>\n",
              "      <td>-0.638248</td>\n",
              "      <td>-0.611779</td>\n",
              "    </tr>\n",
              "    <tr>\n",
              "      <th>Adult Mortality</th>\n",
              "      <td>-2.598476</td>\n",
              "      <td>-2.631898</td>\n",
              "    </tr>\n",
              "    <tr>\n",
              "      <th>infant deaths</th>\n",
              "      <td>10.848067</td>\n",
              "      <td>-0.000000</td>\n",
              "    </tr>\n",
              "    <tr>\n",
              "      <th>Alcohol</th>\n",
              "      <td>0.217975</td>\n",
              "      <td>0.036282</td>\n",
              "    </tr>\n",
              "    <tr>\n",
              "      <th>percentage expenditure</th>\n",
              "      <td>0.099763</td>\n",
              "      <td>0.148770</td>\n",
              "    </tr>\n",
              "    <tr>\n",
              "      <th>Hepatitis B</th>\n",
              "      <td>-0.457261</td>\n",
              "      <td>-0.332590</td>\n",
              "    </tr>\n",
              "    <tr>\n",
              "      <th>Measles</th>\n",
              "      <td>-0.264600</td>\n",
              "      <td>-0.332676</td>\n",
              "    </tr>\n",
              "    <tr>\n",
              "      <th>BMI</th>\n",
              "      <td>0.820254</td>\n",
              "      <td>0.833257</td>\n",
              "    </tr>\n",
              "    <tr>\n",
              "      <th>under-five deaths</th>\n",
              "      <td>-11.040291</td>\n",
              "      <td>-0.116581</td>\n",
              "    </tr>\n",
              "    <tr>\n",
              "      <th>Polio</th>\n",
              "      <td>0.648993</td>\n",
              "      <td>0.663581</td>\n",
              "    </tr>\n",
              "    <tr>\n",
              "      <th>Total expenditure</th>\n",
              "      <td>0.087735</td>\n",
              "      <td>0.034895</td>\n",
              "    </tr>\n",
              "    <tr>\n",
              "      <th>Diphtheria</th>\n",
              "      <td>0.988182</td>\n",
              "      <td>1.038886</td>\n",
              "    </tr>\n",
              "    <tr>\n",
              "      <th>HIV/AIDS</th>\n",
              "      <td>-2.421012</td>\n",
              "      <td>-2.395320</td>\n",
              "    </tr>\n",
              "    <tr>\n",
              "      <th>GDP</th>\n",
              "      <td>0.509171</td>\n",
              "      <td>0.356746</td>\n",
              "    </tr>\n",
              "    <tr>\n",
              "      <th>Population</th>\n",
              "      <td>-0.054423</td>\n",
              "      <td>0.000000</td>\n",
              "    </tr>\n",
              "    <tr>\n",
              "      <th>thinness  1-19 years</th>\n",
              "      <td>-0.434615</td>\n",
              "      <td>-0.281940</td>\n",
              "    </tr>\n",
              "    <tr>\n",
              "      <th>thinness 5-9 years</th>\n",
              "      <td>0.079894</td>\n",
              "      <td>-0.000000</td>\n",
              "    </tr>\n",
              "    <tr>\n",
              "      <th>Income composition of resources</th>\n",
              "      <td>1.241183</td>\n",
              "      <td>1.401206</td>\n",
              "    </tr>\n",
              "    <tr>\n",
              "      <th>Schooling</th>\n",
              "      <td>2.072401</td>\n",
              "      <td>2.154375</td>\n",
              "    </tr>\n",
              "  </tbody>\n",
              "</table>\n",
              "</div>\n",
              "    <div class=\"colab-df-buttons\">\n",
              "\n",
              "  <div class=\"colab-df-container\">\n",
              "    <button class=\"colab-df-convert\" onclick=\"convertToInteractive('df-969d4528-ce59-48d6-a9bd-eb9833975544')\"\n",
              "            title=\"Convert this dataframe to an interactive table.\"\n",
              "            style=\"display:none;\">\n",
              "\n",
              "  <svg xmlns=\"http://www.w3.org/2000/svg\" height=\"24px\" viewBox=\"0 -960 960 960\">\n",
              "    <path d=\"M120-120v-720h720v720H120Zm60-500h600v-160H180v160Zm220 220h160v-160H400v160Zm0 220h160v-160H400v160ZM180-400h160v-160H180v160Zm440 0h160v-160H620v160ZM180-180h160v-160H180v160Zm440 0h160v-160H620v160Z\"/>\n",
              "  </svg>\n",
              "    </button>\n",
              "\n",
              "  <style>\n",
              "    .colab-df-container {\n",
              "      display:flex;\n",
              "      gap: 12px;\n",
              "    }\n",
              "\n",
              "    .colab-df-convert {\n",
              "      background-color: #E8F0FE;\n",
              "      border: none;\n",
              "      border-radius: 50%;\n",
              "      cursor: pointer;\n",
              "      display: none;\n",
              "      fill: #1967D2;\n",
              "      height: 32px;\n",
              "      padding: 0 0 0 0;\n",
              "      width: 32px;\n",
              "    }\n",
              "\n",
              "    .colab-df-convert:hover {\n",
              "      background-color: #E2EBFA;\n",
              "      box-shadow: 0px 1px 2px rgba(60, 64, 67, 0.3), 0px 1px 3px 1px rgba(60, 64, 67, 0.15);\n",
              "      fill: #174EA6;\n",
              "    }\n",
              "\n",
              "    .colab-df-buttons div {\n",
              "      margin-bottom: 4px;\n",
              "    }\n",
              "\n",
              "    [theme=dark] .colab-df-convert {\n",
              "      background-color: #3B4455;\n",
              "      fill: #D2E3FC;\n",
              "    }\n",
              "\n",
              "    [theme=dark] .colab-df-convert:hover {\n",
              "      background-color: #434B5C;\n",
              "      box-shadow: 0px 1px 3px 1px rgba(0, 0, 0, 0.15);\n",
              "      filter: drop-shadow(0px 1px 2px rgba(0, 0, 0, 0.3));\n",
              "      fill: #FFFFFF;\n",
              "    }\n",
              "  </style>\n",
              "\n",
              "    <script>\n",
              "      const buttonEl =\n",
              "        document.querySelector('#df-969d4528-ce59-48d6-a9bd-eb9833975544 button.colab-df-convert');\n",
              "      buttonEl.style.display =\n",
              "        google.colab.kernel.accessAllowed ? 'block' : 'none';\n",
              "\n",
              "      async function convertToInteractive(key) {\n",
              "        const element = document.querySelector('#df-969d4528-ce59-48d6-a9bd-eb9833975544');\n",
              "        const dataTable =\n",
              "          await google.colab.kernel.invokeFunction('convertToInteractive',\n",
              "                                                    [key], {});\n",
              "        if (!dataTable) return;\n",
              "\n",
              "        const docLinkHtml = 'Like what you see? Visit the ' +\n",
              "          '<a target=\"_blank\" href=https://colab.research.google.com/notebooks/data_table.ipynb>data table notebook</a>'\n",
              "          + ' to learn more about interactive tables.';\n",
              "        element.innerHTML = '';\n",
              "        dataTable['output_type'] = 'display_data';\n",
              "        await google.colab.output.renderOutput(dataTable, element);\n",
              "        const docLink = document.createElement('div');\n",
              "        docLink.innerHTML = docLinkHtml;\n",
              "        element.appendChild(docLink);\n",
              "      }\n",
              "    </script>\n",
              "  </div>\n",
              "\n",
              "\n",
              "<div id=\"df-ff595296-a0e4-43db-80b8-909125529d65\">\n",
              "  <button class=\"colab-df-quickchart\" onclick=\"quickchart('df-ff595296-a0e4-43db-80b8-909125529d65')\"\n",
              "            title=\"Suggest charts\"\n",
              "            style=\"display:none;\">\n",
              "\n",
              "<svg xmlns=\"http://www.w3.org/2000/svg\" height=\"24px\"viewBox=\"0 0 24 24\"\n",
              "     width=\"24px\">\n",
              "    <g>\n",
              "        <path d=\"M19 3H5c-1.1 0-2 .9-2 2v14c0 1.1.9 2 2 2h14c1.1 0 2-.9 2-2V5c0-1.1-.9-2-2-2zM9 17H7v-7h2v7zm4 0h-2V7h2v10zm4 0h-2v-4h2v4z\"/>\n",
              "    </g>\n",
              "</svg>\n",
              "  </button>\n",
              "\n",
              "<style>\n",
              "  .colab-df-quickchart {\n",
              "      --bg-color: #E8F0FE;\n",
              "      --fill-color: #1967D2;\n",
              "      --hover-bg-color: #E2EBFA;\n",
              "      --hover-fill-color: #174EA6;\n",
              "      --disabled-fill-color: #AAA;\n",
              "      --disabled-bg-color: #DDD;\n",
              "  }\n",
              "\n",
              "  [theme=dark] .colab-df-quickchart {\n",
              "      --bg-color: #3B4455;\n",
              "      --fill-color: #D2E3FC;\n",
              "      --hover-bg-color: #434B5C;\n",
              "      --hover-fill-color: #FFFFFF;\n",
              "      --disabled-bg-color: #3B4455;\n",
              "      --disabled-fill-color: #666;\n",
              "  }\n",
              "\n",
              "  .colab-df-quickchart {\n",
              "    background-color: var(--bg-color);\n",
              "    border: none;\n",
              "    border-radius: 50%;\n",
              "    cursor: pointer;\n",
              "    display: none;\n",
              "    fill: var(--fill-color);\n",
              "    height: 32px;\n",
              "    padding: 0;\n",
              "    width: 32px;\n",
              "  }\n",
              "\n",
              "  .colab-df-quickchart:hover {\n",
              "    background-color: var(--hover-bg-color);\n",
              "    box-shadow: 0 1px 2px rgba(60, 64, 67, 0.3), 0 1px 3px 1px rgba(60, 64, 67, 0.15);\n",
              "    fill: var(--button-hover-fill-color);\n",
              "  }\n",
              "\n",
              "  .colab-df-quickchart-complete:disabled,\n",
              "  .colab-df-quickchart-complete:disabled:hover {\n",
              "    background-color: var(--disabled-bg-color);\n",
              "    fill: var(--disabled-fill-color);\n",
              "    box-shadow: none;\n",
              "  }\n",
              "\n",
              "  .colab-df-spinner {\n",
              "    border: 2px solid var(--fill-color);\n",
              "    border-color: transparent;\n",
              "    border-bottom-color: var(--fill-color);\n",
              "    animation:\n",
              "      spin 1s steps(1) infinite;\n",
              "  }\n",
              "\n",
              "  @keyframes spin {\n",
              "    0% {\n",
              "      border-color: transparent;\n",
              "      border-bottom-color: var(--fill-color);\n",
              "      border-left-color: var(--fill-color);\n",
              "    }\n",
              "    20% {\n",
              "      border-color: transparent;\n",
              "      border-left-color: var(--fill-color);\n",
              "      border-top-color: var(--fill-color);\n",
              "    }\n",
              "    30% {\n",
              "      border-color: transparent;\n",
              "      border-left-color: var(--fill-color);\n",
              "      border-top-color: var(--fill-color);\n",
              "      border-right-color: var(--fill-color);\n",
              "    }\n",
              "    40% {\n",
              "      border-color: transparent;\n",
              "      border-right-color: var(--fill-color);\n",
              "      border-top-color: var(--fill-color);\n",
              "    }\n",
              "    60% {\n",
              "      border-color: transparent;\n",
              "      border-right-color: var(--fill-color);\n",
              "    }\n",
              "    80% {\n",
              "      border-color: transparent;\n",
              "      border-right-color: var(--fill-color);\n",
              "      border-bottom-color: var(--fill-color);\n",
              "    }\n",
              "    90% {\n",
              "      border-color: transparent;\n",
              "      border-bottom-color: var(--fill-color);\n",
              "    }\n",
              "  }\n",
              "</style>\n",
              "\n",
              "  <script>\n",
              "    async function quickchart(key) {\n",
              "      const quickchartButtonEl =\n",
              "        document.querySelector('#' + key + ' button');\n",
              "      quickchartButtonEl.disabled = true;  // To prevent multiple clicks.\n",
              "      quickchartButtonEl.classList.add('colab-df-spinner');\n",
              "      try {\n",
              "        const charts = await google.colab.kernel.invokeFunction(\n",
              "            'suggestCharts', [key], {});\n",
              "      } catch (error) {\n",
              "        console.error('Error during call to suggestCharts:', error);\n",
              "      }\n",
              "      quickchartButtonEl.classList.remove('colab-df-spinner');\n",
              "      quickchartButtonEl.classList.add('colab-df-quickchart-complete');\n",
              "    }\n",
              "    (() => {\n",
              "      let quickchartButtonEl =\n",
              "        document.querySelector('#df-ff595296-a0e4-43db-80b8-909125529d65 button');\n",
              "      quickchartButtonEl.style.display =\n",
              "        google.colab.kernel.accessAllowed ? 'block' : 'none';\n",
              "    })();\n",
              "  </script>\n",
              "</div>\n",
              "    </div>\n",
              "  </div>\n"
            ],
            "application/vnd.google.colaboratory.intrinsic+json": {
              "type": "dataframe",
              "variable_name": "coefficients_comparison",
              "summary": "{\n  \"name\": \"coefficients_comparison\",\n  \"rows\": 20,\n  \"fields\": [\n    {\n      \"column\": \"Simple Linear Regression\",\n      \"properties\": {\n        \"dtype\": \"number\",\n        \"std\": 3.708401491267469,\n        \"min\": -11.040290964830222,\n        \"max\": 10.848067233349498,\n        \"num_unique_values\": 20,\n        \"samples\": [\n          -0.0006657315987291768,\n          0.07989403161911729,\n          -0.05442296258889907\n        ],\n        \"semantic_type\": \"\",\n        \"description\": \"\"\n      }\n    },\n    {\n      \"column\": \"Lasso Regression\",\n      \"properties\": {\n        \"dtype\": \"number\",\n        \"std\": 1.0839405802539694,\n        \"min\": -2.631897787906296,\n        \"max\": 2.1543752527275175,\n        \"num_unique_values\": 17,\n        \"samples\": [\n          0.0,\n          -0.6117789496845939,\n          -0.33258953359572335\n        ],\n        \"semantic_type\": \"\",\n        \"description\": \"\"\n      }\n    }\n  ]\n}"
            }
          },
          "metadata": {},
          "execution_count": 28
        }
      ]
    },
    {
      "cell_type": "markdown",
      "source": [
        "**Analysis of Model Weights**\n",
        "\n",
        "**Simple Linear Regression vs. Lasso Regression**\n",
        "\n",
        "The comparison of coefficients from the Simple Linear Regression model and the Lasso Regression model reveals the following key insights:\n",
        "\n",
        "**Significant Coefficients in Both Models**\n",
        "\n",
        "- **Adult Mortality**: Both models show a strong negative coefficient, indicating a strong inverse relationship with life expectancy, consistent with the high negative correlation observed.\n",
        "- **HIV/AIDS**: Both models have a strong negative coefficient, again consistent with the strong negative correlation.\n",
        "- **Income Composition of Resources**: Both models show a strong positive coefficient, indicating a strong positive relationship with life expectancy, aligning with the high positive correlation.\n",
        "- **Schooling**: Both models have a strong positive coefficient, also consistent with the high positive correlation.\n",
        "\n",
        "**Reduced or Zeroed Coefficients in Lasso Regression**\n",
        "\n",
        "- **infant deaths**: The coefficient is driven to zero in the Lasso model, suggesting it may not be as significant when considering the regularization, despite showing some significance in the simple linear regression model.\n",
        "- **under-five deaths**: Similarly, this coefficient is near zero in the Lasso model, reducing its importance compared to the simple linear regression model.\n",
        "- **Population**: The coefficient is zeroed out in the Lasso model, indicating it is not significant when considering regularization.\n",
        "- **thinness 5-9 years**: The coefficient is zeroed out in the Lasso model, suggesting it may not be significant.\n",
        "- **Alcohol** and **Total expenditure**: These coefficients are significantly reduced, indicating lesser importance when regularization is applied.\n",
        "\n",
        "**Consistent Coefficients in Both Models**\n",
        "\n",
        "- **Diphtheria** and **Polio**: These coefficients remain positive and significant in both models.\n",
        "- **BMI** and **GDP**: These coefficients are consistently positive in both models, though slightly reduced in the Lasso model.\n",
        "\n",
        "**Interpretation**\n",
        "\n",
        "The Lasso regression model helps to perform feature selection by driving some of the less important coefficients to zero. This is evident from the results where features like `infant deaths`, `under-five deaths`, `Population`, and `thinness 5-9 years` are zeroed out or significantly reduced. This regularization helps to focus on the most important features and reduces overfitting.\n",
        "\n",
        "**Correlation Values**\n",
        "\n",
        "The correlation values calculated earlier align well with the model weights:\n",
        "- **Adult Mortality (-0.696)** and **HIV/AIDS (-0.557)** have strong negative correlations and significant negative coefficients.\n",
        "- **Income Composition of Resources (0.689)** and **Schooling (0.713)** have strong positive correlations and significant positive coefficients.\n",
        "- Features like **BMI (0.557)** and **GDP (0.430)** also have positive correlations and positive coefficients.\n",
        "\n",
        "**Conclusion**\n",
        "\n",
        "Lasso regression (with L1 regularization) is effective in identifying and retaining significant features while reducing or eliminating the weights of less important features. This aligns well with the correlation analysis, providing a more interpretable model by focusing on key predictors of life expectancy."
      ],
      "metadata": {
        "id": "K9lvO-4K5TpX"
      }
    },
    {
      "cell_type": "code",
      "source": [],
      "metadata": {
        "id": "n4fNPxW_47wl"
      },
      "execution_count": null,
      "outputs": []
    }
  ]
}