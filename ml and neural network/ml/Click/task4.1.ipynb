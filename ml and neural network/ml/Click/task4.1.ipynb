{
 "cells": [
  {
   "cell_type": "code",
   "execution_count": 27,
   "metadata": {},
   "outputs": [],
   "source": [
    "#Hi"
   ]
  },
  {
   "cell_type": "markdown",
   "metadata": {},
   "source": [
    "### Documentation of Exploratory Data Analysis (EDA) and Dimensionality Reduction for the Advertising Click Dataset\n",
    "\n",
    "#### 1. Data Exploration and Understanding\n",
    "- **Initial Data Overview**:\n",
    "  - Use functions like `head()` and `info()` to get a general view of the data structure and number of records.\n",
    "  - Examine the data types in each column (numerical, textual, categorical).\n",
    "  - Identify the target column, `Clicked on Ad`, which indicates whether a user clicked on the advertisement.\n",
    "\n",
    "- **Descriptive Statistics**:\n",
    "  - Use functions like `describe()` to examine the distribution of numerical values.\n",
    "  - Calculate the mean, median, and standard deviation for each column.\n",
    "\n",
    "#### 2. Handling Duplicates and Missing Data\n",
    "- **Identifying Duplicate Records**:\n",
    "  - Check for and remove duplicate records in the dataset.\n",
    "\n",
    "- **Handling Missing Data**:\n",
    "  - Identify columns with missing values.\n",
    "  - Decide whether to remove or impute missing values using methods like mean or median imputation.\n",
    "\n",
    "#### 3. Analyzing Numerical Data\n",
    "- **Distribution of Numerical Features**:\n",
    "  - Plot histograms to observe the distribution of each numerical feature.\n",
    "  - Identify outliers and unusual values.\n",
    "\n",
    "- **Box Plot Visualization**:\n",
    "  - Use box plots to visualize the distribution and identify outliers.\n",
    "\n",
    "#### 4. Analyzing Categorical Data\n",
    "- **Distribution of Categorical Features**:\n",
    "  - Plot bar charts to observe the distribution of each categorical feature.\n",
    "  - Examine the frequency of each category.\n",
    "\n",
    "- **Temporal Feature Analysis**:\n",
    "  - Extract temporal features from the `Timestamp` column, such as hour, day of the week, and month.\n",
    "  - Investigate the impact of time on click probability.\n",
    "\n",
    "#### 5. Investigating Feature Relationships\n",
    "- **Correlation Matrix**:\n",
    "  - Use a heatmap to visualize the correlation between features.\n",
    "  - Identify features that have the highest correlation with the target column.\n",
    "\n",
    "- **Pair Plot Analysis**:\n",
    "  - Plot pair plots to examine the relationships between numerical and categorical features.\n",
    "\n",
    "#### 6. Data Transformation and Preparation\n",
    "- **Standardization**:\n",
    "  - Standardize numerical features to have a mean of zero and a standard deviation of one.\n",
    "\n",
    "- **Encoding Categorical Features**:\n",
    "  - Convert categorical features into numerical values using One-Hot Encoding.\n",
    "\n",
    "- **Feature Engineering**:\n",
    "  - Create new features from existing ones, such as extracting hour, day of the week, and month from the `Timestamp`.\n",
    "  - Perform clustering using KMeans and add cluster labels as a new feature.\n",
    "\n",
    "#### 7. Applying Dimensionality Reduction Techniques\n",
    "- **Principal Component Analysis (PCA)**:\n",
    "  - Apply PCA to reduce the dimensionality of the data while retaining the maximum variance.\n",
    "  - Choose the appropriate number of principal components for modeling.\n",
    "\n",
    "- **Linear Discriminant Analysis (LDA)**:\n",
    "  - Apply LDA to reduce dimensionality with consideration of the labels.\n",
    "  - LDA selects dimensions that maximize class separability.\n",
    "\n",
    "#### 8. Evaluating Classification Models\n",
    "- **Cross-Validation**:\n",
    "  - Use cross-validation techniques to evaluate models.\n",
    "  - Split the data into training and testing sets to assess model performance.\n",
    "\n",
    "- **Implementing Various Classification Algorithms**:\n",
    "  - Implement and evaluate algorithms such as Logistic Regression, Random Forest, Gradient Boosting, and SVM.\n",
    "  - Compare the performance of these algorithms using evaluation metrics like accuracy.\n",
    "\n",
    "### 9. Comparing Results and Selecting the Best Model\n",
    "After evaluating the models using the original data, PCA-reduced data, LDA-reduced data, and clustered data, compare the performance of the models to select the best data preparation method and the best model for predicting advertisement clicks.\n",
    "\n"
   ]
  },
  {
   "cell_type": "code",
   "execution_count": 1,
   "metadata": {},
   "outputs": [],
   "source": [
    "import pandas as pd\n",
    "import numpy as np\n",
    "import matplotlib.pyplot as plt\n",
    "import seaborn as sns\n",
    "import warnings\n",
    "warnings.filterwarnings('ignore')"
   ]
  },
  {
   "cell_type": "code",
   "execution_count": 2,
   "metadata": {},
   "outputs": [],
   "source": [
    "data = pd.read_csv('/Users/asus/Desktop/archive (7)/ad_10000records.csv')"
   ]
  },
  {
   "cell_type": "code",
   "execution_count": 3,
   "metadata": {},
   "outputs": [
    {
     "data": {
      "text/html": [
       "<div>\n",
       "<style scoped>\n",
       "    .dataframe tbody tr th:only-of-type {\n",
       "        vertical-align: middle;\n",
       "    }\n",
       "\n",
       "    .dataframe tbody tr th {\n",
       "        vertical-align: top;\n",
       "    }\n",
       "\n",
       "    .dataframe thead th {\n",
       "        text-align: right;\n",
       "    }\n",
       "</style>\n",
       "<table border=\"1\" class=\"dataframe\">\n",
       "  <thead>\n",
       "    <tr style=\"text-align: right;\">\n",
       "      <th></th>\n",
       "      <th>Daily Time Spent on Site</th>\n",
       "      <th>Age</th>\n",
       "      <th>Area Income</th>\n",
       "      <th>Daily Internet Usage</th>\n",
       "      <th>Ad Topic Line</th>\n",
       "      <th>City</th>\n",
       "      <th>Gender</th>\n",
       "      <th>Country</th>\n",
       "      <th>Timestamp</th>\n",
       "      <th>Clicked on Ad</th>\n",
       "    </tr>\n",
       "  </thead>\n",
       "  <tbody>\n",
       "    <tr>\n",
       "      <th>0</th>\n",
       "      <td>62.26</td>\n",
       "      <td>32.0</td>\n",
       "      <td>69481.85</td>\n",
       "      <td>172.83</td>\n",
       "      <td>Decentralized real-time circuit</td>\n",
       "      <td>Lisafort</td>\n",
       "      <td>Male</td>\n",
       "      <td>Svalbard &amp; Jan Mayen Islands</td>\n",
       "      <td>2016-06-09 21:43:05</td>\n",
       "      <td>0</td>\n",
       "    </tr>\n",
       "    <tr>\n",
       "      <th>1</th>\n",
       "      <td>41.73</td>\n",
       "      <td>31.0</td>\n",
       "      <td>61840.26</td>\n",
       "      <td>207.17</td>\n",
       "      <td>Optional full-range projection</td>\n",
       "      <td>West Angelabury</td>\n",
       "      <td>Male</td>\n",
       "      <td>Singapore</td>\n",
       "      <td>2016-01-16 17:56:05</td>\n",
       "      <td>0</td>\n",
       "    </tr>\n",
       "    <tr>\n",
       "      <th>2</th>\n",
       "      <td>44.40</td>\n",
       "      <td>30.0</td>\n",
       "      <td>57877.15</td>\n",
       "      <td>172.83</td>\n",
       "      <td>Total 5thgeneration standardization</td>\n",
       "      <td>Reyesfurt</td>\n",
       "      <td>Female</td>\n",
       "      <td>Guadeloupe</td>\n",
       "      <td>2016-06-29 10:50:45</td>\n",
       "      <td>0</td>\n",
       "    </tr>\n",
       "    <tr>\n",
       "      <th>3</th>\n",
       "      <td>59.88</td>\n",
       "      <td>28.0</td>\n",
       "      <td>56180.93</td>\n",
       "      <td>207.17</td>\n",
       "      <td>Balanced empowering success</td>\n",
       "      <td>New Michael</td>\n",
       "      <td>Female</td>\n",
       "      <td>Zambia</td>\n",
       "      <td>2016-06-21 14:32:32</td>\n",
       "      <td>0</td>\n",
       "    </tr>\n",
       "    <tr>\n",
       "      <th>4</th>\n",
       "      <td>49.21</td>\n",
       "      <td>30.0</td>\n",
       "      <td>54324.73</td>\n",
       "      <td>201.58</td>\n",
       "      <td>Total 5thgeneration standardization</td>\n",
       "      <td>West Richard</td>\n",
       "      <td>Female</td>\n",
       "      <td>Qatar</td>\n",
       "      <td>2016-07-21 10:54:35</td>\n",
       "      <td>1</td>\n",
       "    </tr>\n",
       "  </tbody>\n",
       "</table>\n",
       "</div>"
      ],
      "text/plain": [
       "   Daily Time Spent on Site   Age  Area Income  Daily Internet Usage  \\\n",
       "0                     62.26  32.0     69481.85                172.83   \n",
       "1                     41.73  31.0     61840.26                207.17   \n",
       "2                     44.40  30.0     57877.15                172.83   \n",
       "3                     59.88  28.0     56180.93                207.17   \n",
       "4                     49.21  30.0     54324.73                201.58   \n",
       "\n",
       "                         Ad Topic Line             City  Gender  \\\n",
       "0      Decentralized real-time circuit         Lisafort    Male   \n",
       "1       Optional full-range projection  West Angelabury    Male   \n",
       "2  Total 5thgeneration standardization        Reyesfurt  Female   \n",
       "3          Balanced empowering success      New Michael  Female   \n",
       "4  Total 5thgeneration standardization     West Richard  Female   \n",
       "\n",
       "                        Country            Timestamp  Clicked on Ad  \n",
       "0  Svalbard & Jan Mayen Islands  2016-06-09 21:43:05              0  \n",
       "1                     Singapore  2016-01-16 17:56:05              0  \n",
       "2                    Guadeloupe  2016-06-29 10:50:45              0  \n",
       "3                        Zambia  2016-06-21 14:32:32              0  \n",
       "4                         Qatar  2016-07-21 10:54:35              1  "
      ]
     },
     "execution_count": 3,
     "metadata": {},
     "output_type": "execute_result"
    }
   ],
   "source": [
    "data.head()"
   ]
  },
  {
   "cell_type": "code",
   "execution_count": 4,
   "metadata": {},
   "outputs": [
    {
     "data": {
      "text/html": [
       "<div>\n",
       "<style scoped>\n",
       "    .dataframe tbody tr th:only-of-type {\n",
       "        vertical-align: middle;\n",
       "    }\n",
       "\n",
       "    .dataframe tbody tr th {\n",
       "        vertical-align: top;\n",
       "    }\n",
       "\n",
       "    .dataframe thead th {\n",
       "        text-align: right;\n",
       "    }\n",
       "</style>\n",
       "<table border=\"1\" class=\"dataframe\">\n",
       "  <thead>\n",
       "    <tr style=\"text-align: right;\">\n",
       "      <th></th>\n",
       "      <th>Daily Time Spent on Site</th>\n",
       "      <th>Age</th>\n",
       "      <th>Area Income</th>\n",
       "      <th>Daily Internet Usage</th>\n",
       "      <th>Ad Topic Line</th>\n",
       "      <th>City</th>\n",
       "      <th>Gender</th>\n",
       "      <th>Country</th>\n",
       "      <th>Timestamp</th>\n",
       "      <th>Clicked on Ad</th>\n",
       "    </tr>\n",
       "  </thead>\n",
       "  <tbody>\n",
       "    <tr>\n",
       "      <th>9995</th>\n",
       "      <td>41.73</td>\n",
       "      <td>31.0</td>\n",
       "      <td>61840.26</td>\n",
       "      <td>207.17</td>\n",
       "      <td>Profound executive flexibility</td>\n",
       "      <td>West Angelabury</td>\n",
       "      <td>Male</td>\n",
       "      <td>Singapore</td>\n",
       "      <td>2016-01-03 03:22:15</td>\n",
       "      <td>1</td>\n",
       "    </tr>\n",
       "    <tr>\n",
       "      <th>9996</th>\n",
       "      <td>41.73</td>\n",
       "      <td>28.0</td>\n",
       "      <td>51501.38</td>\n",
       "      <td>120.49</td>\n",
       "      <td>Managed zero tolerance concept</td>\n",
       "      <td>Kennedyfurt</td>\n",
       "      <td>Male</td>\n",
       "      <td>Luxembourg</td>\n",
       "      <td>2016-05-28 12:20:15</td>\n",
       "      <td>0</td>\n",
       "    </tr>\n",
       "    <tr>\n",
       "      <th>9997</th>\n",
       "      <td>55.60</td>\n",
       "      <td>39.0</td>\n",
       "      <td>38067.08</td>\n",
       "      <td>124.44</td>\n",
       "      <td>Intuitive exuding service-desk</td>\n",
       "      <td>North Randy</td>\n",
       "      <td>Female</td>\n",
       "      <td>Egypt</td>\n",
       "      <td>2016-01-05 11:53:17</td>\n",
       "      <td>0</td>\n",
       "    </tr>\n",
       "    <tr>\n",
       "      <th>9998</th>\n",
       "      <td>46.61</td>\n",
       "      <td>50.0</td>\n",
       "      <td>43974.49</td>\n",
       "      <td>123.13</td>\n",
       "      <td>Realigned content-based leverage</td>\n",
       "      <td>North Samantha</td>\n",
       "      <td>Female</td>\n",
       "      <td>Malawi</td>\n",
       "      <td>2016-04-04 07:07:46</td>\n",
       "      <td>1</td>\n",
       "    </tr>\n",
       "    <tr>\n",
       "      <th>9999</th>\n",
       "      <td>46.61</td>\n",
       "      <td>43.0</td>\n",
       "      <td>60575.99</td>\n",
       "      <td>198.45</td>\n",
       "      <td>Optimized upward-trending productivity</td>\n",
       "      <td>Port Jeffrey</td>\n",
       "      <td>Male</td>\n",
       "      <td>Northern Mariana Islands</td>\n",
       "      <td>2016-04-03 21:13:46</td>\n",
       "      <td>1</td>\n",
       "    </tr>\n",
       "  </tbody>\n",
       "</table>\n",
       "</div>"
      ],
      "text/plain": [
       "      Daily Time Spent on Site   Age  Area Income  Daily Internet Usage  \\\n",
       "9995                     41.73  31.0     61840.26                207.17   \n",
       "9996                     41.73  28.0     51501.38                120.49   \n",
       "9997                     55.60  39.0     38067.08                124.44   \n",
       "9998                     46.61  50.0     43974.49                123.13   \n",
       "9999                     46.61  43.0     60575.99                198.45   \n",
       "\n",
       "                               Ad Topic Line             City  Gender  \\\n",
       "9995          Profound executive flexibility  West Angelabury    Male   \n",
       "9996          Managed zero tolerance concept      Kennedyfurt    Male   \n",
       "9997          Intuitive exuding service-desk      North Randy  Female   \n",
       "9998        Realigned content-based leverage   North Samantha  Female   \n",
       "9999  Optimized upward-trending productivity     Port Jeffrey    Male   \n",
       "\n",
       "                       Country            Timestamp  Clicked on Ad  \n",
       "9995                 Singapore  2016-01-03 03:22:15              1  \n",
       "9996                Luxembourg  2016-05-28 12:20:15              0  \n",
       "9997                     Egypt  2016-01-05 11:53:17              0  \n",
       "9998                    Malawi  2016-04-04 07:07:46              1  \n",
       "9999  Northern Mariana Islands  2016-04-03 21:13:46              1  "
      ]
     },
     "execution_count": 4,
     "metadata": {},
     "output_type": "execute_result"
    }
   ],
   "source": [
    "data.tail()"
   ]
  },
  {
   "cell_type": "code",
   "execution_count": 5,
   "metadata": {},
   "outputs": [
    {
     "name": "stdout",
     "output_type": "stream",
     "text": [
      "<class 'pandas.core.frame.DataFrame'>\n",
      "RangeIndex: 10000 entries, 0 to 9999\n",
      "Data columns (total 10 columns):\n",
      " #   Column                    Non-Null Count  Dtype  \n",
      "---  ------                    --------------  -----  \n",
      " 0   Daily Time Spent on Site  10000 non-null  float64\n",
      " 1   Age                       10000 non-null  float64\n",
      " 2   Area Income               10000 non-null  float64\n",
      " 3   Daily Internet Usage      10000 non-null  float64\n",
      " 4   Ad Topic Line             10000 non-null  object \n",
      " 5   City                      10000 non-null  object \n",
      " 6   Gender                    10000 non-null  object \n",
      " 7   Country                   10000 non-null  object \n",
      " 8   Timestamp                 10000 non-null  object \n",
      " 9   Clicked on Ad             10000 non-null  int64  \n",
      "dtypes: float64(4), int64(1), object(5)\n",
      "memory usage: 781.4+ KB\n"
     ]
    }
   ],
   "source": [
    "data.info()"
   ]
  },
  {
   "cell_type": "code",
   "execution_count": 6,
   "metadata": {},
   "outputs": [
    {
     "data": {
      "text/plain": [
       "Daily Time Spent on Site    460\n",
       "Age                          39\n",
       "Area Income                 524\n",
       "Daily Internet Usage        505\n",
       "Ad Topic Line               559\n",
       "City                        521\n",
       "Gender                        2\n",
       "Country                     207\n",
       "Timestamp                   567\n",
       "Clicked on Ad                 2\n",
       "dtype: int64"
      ]
     },
     "execution_count": 6,
     "metadata": {},
     "output_type": "execute_result"
    }
   ],
   "source": [
    "data.nunique()"
   ]
  },
  {
   "cell_type": "code",
   "execution_count": 7,
   "metadata": {},
   "outputs": [
    {
     "data": {
      "text/plain": [
       "Daily Time Spent on Site    0\n",
       "Age                         0\n",
       "Area Income                 0\n",
       "Daily Internet Usage        0\n",
       "Ad Topic Line               0\n",
       "City                        0\n",
       "Gender                      0\n",
       "Country                     0\n",
       "Timestamp                   0\n",
       "Clicked on Ad               0\n",
       "dtype: int64"
      ]
     },
     "execution_count": 7,
     "metadata": {},
     "output_type": "execute_result"
    }
   ],
   "source": [
    "data.isnull().sum()"
   ]
  },
  {
   "cell_type": "code",
   "execution_count": 10,
   "metadata": {},
   "outputs": [
    {
     "data": {
      "text/plain": [
       "Daily Time Spent on Site    0.0\n",
       "Age                         0.0\n",
       "Area Income                 0.0\n",
       "Daily Internet Usage        0.0\n",
       "Ad Topic Line               0.0\n",
       "City                        0.0\n",
       "Gender                      0.0\n",
       "Country                     0.0\n",
       "Timestamp                   0.0\n",
       "Clicked on Ad               0.0\n",
       "dtype: float64"
      ]
     },
     "execution_count": 10,
     "metadata": {},
     "output_type": "execute_result"
    }
   ],
   "source": [
    "(data.isnull().sum()/(len(data)))*100"
   ]
  },
  {
   "cell_type": "code",
   "execution_count": 11,
   "metadata": {},
   "outputs": [
    {
     "data": {
      "image/png": "[encoded data removed]",
      "text/plain": [
       "<Figure size 2000x1500 with 6 Axes>"
      ]
     },
     "metadata": {},
     "output_type": "display_data"
    }
   ],
   "source": [
    "data.hist(bins=50, figsize=(20,15))\n",
    "plt.show()\n"
   ]
  },
  {
   "cell_type": "code",
   "execution_count": 12,
   "metadata": {},
   "outputs": [
    {
     "data": {
      "text/plain": [
       "<Figure size 1000x600 with 0 Axes>"
      ]
     },
     "metadata": {},
     "output_type": "display_data"
    },
    {
     "data": {
      "image/png": "[encoded data removed]",
      "text/plain": [
       "<Figure size 640x480 with 1 Axes>"
      ]
     },
     "metadata": {},
     "output_type": "display_data"
    }
   ],
   "source": [
    "plt.figure(figsize=(10, 6))\n",
    "data.boxplot(column='Clicked on Ad', by='Gender', grid=False)\n",
    "plt.title('Clicked on Ad by Gender\t')\n",
    "plt.suptitle('')  \n",
    "plt.xlabel('Gender')\n",
    "plt.ylabel('Clicked on Ad')\n",
    "plt.show()"
   ]
  },
  {
   "cell_type": "code",
   "execution_count": 13,
   "metadata": {},
   "outputs": [
    {
     "data": {
      "text/plain": [
       "(3.564482396066224, 0.00036627528158953446)"
      ]
     },
     "execution_count": 13,
     "metadata": {},
     "output_type": "execute_result"
    }
   ],
   "source": [
    "from scipy.stats import ttest_ind\n",
    "\n",
    "\n",
    "developed = data[data['Gender'] == 'Male']['Daily Time Spent on Site']\n",
    "developing = data[data['Gender'] == 'Female']['Daily Time Spent on Site']\n",
    "\n",
    "\n",
    "t_stat, p_val = ttest_ind(developed, developing, nan_policy='omit')\n",
    "\n",
    "t_stat, p_val"
   ]
  },
  {
   "cell_type": "code",
   "execution_count": 14,
   "metadata": {},
   "outputs": [
    {
     "data": {
      "text/plain": [
       "(-4.9651708114570585, 6.977455968111122e-07)"
      ]
     },
     "execution_count": 14,
     "metadata": {},
     "output_type": "execute_result"
    }
   ],
   "source": [
    "developed = data[data['Gender'] == 'Male']['Clicked on Ad']\n",
    "developing = data[data['Gender'] == 'Female']['Clicked on Ad']\n",
    "\n",
    "\n",
    "t_stat, p_val = ttest_ind(developed, developing, nan_policy='omit')\n",
    "\n",
    "t_stat, p_val"
   ]
  },
  {
   "cell_type": "code",
   "execution_count": 15,
   "metadata": {},
   "outputs": [
    {
     "data": {
      "text/plain": [
       "(103.52871851543989, 0.0)"
      ]
     },
     "execution_count": 15,
     "metadata": {},
     "output_type": "execute_result"
    }
   ],
   "source": [
    "from scipy.stats import f_oneway\n",
    "\n",
    "\n",
    "Ages = data['Age'].unique()\n",
    "life_expectancy_by_year = [data[data['Age'] == Age]['Clicked on Ad'].dropna() for Age in Ages]\n",
    "\n",
    "\n",
    "f_stat_year, p_val_year = f_oneway(*life_expectancy_by_year)\n",
    "\n",
    "f_stat_year, p_val_year"
   ]
  },
  {
   "cell_type": "code",
   "execution_count": 16,
   "metadata": {},
   "outputs": [],
   "source": [
    "numerical_columns = ['Clicked on Ad', 'Daily Time Spent on Site', 'Age', 'Daily Internet Usage', 'Area Income']\n",
    "for col in numerical_columns:\n",
    "    data[col].fillna(data[col].median(), inplace=True)\n",
    "\n",
    "\n",
    "categorical_columns = ['Ad Topic Line', 'City', 'Gender','Country']\n",
    "for col in categorical_columns:\n",
    "    data[col].fillna(data[col].mode(), inplace=True)"
   ]
  },
  {
   "cell_type": "code",
   "execution_count": 17,
   "metadata": {},
   "outputs": [
    {
     "data": {
      "text/plain": [
       "Series([], dtype: int64)"
      ]
     },
     "execution_count": 17,
     "metadata": {},
     "output_type": "execute_result"
    }
   ],
   "source": [
    "\n",
    "missing_values_summary_after = data.isnull().sum()\n",
    "missing_values_summary_after[missing_values_summary_after > 0]"
   ]
  },
  {
   "cell_type": "code",
   "execution_count": 18,
   "metadata": {},
   "outputs": [
    {
     "data": {
      "text/plain": [
       "Clicked on Ad               1.000000\n",
       "Age                         0.460383\n",
       "Daily Time Spent on Site    0.091034\n",
       "Area Income                -0.067631\n",
       "Daily Internet Usage       -0.129412\n",
       "Name: Clicked on Ad, dtype: float64"
      ]
     },
     "execution_count": 18,
     "metadata": {},
     "output_type": "execute_result"
    }
   ],
   "source": [
    "correlations = data[numerical_columns].corr()\n",
    "\n",
    "\n",
    "life_expectancy_correlations = correlations['Clicked on Ad'].sort_values(ascending=False)\n",
    "\n",
    "\n",
    "life_expectancy_correlations"
   ]
  },
  {
   "cell_type": "code",
   "execution_count": 19,
   "metadata": {},
   "outputs": [
    {
     "data": {
      "image/png": "[encoded data removed]",
      "text/plain": [
       "<Figure size 640x480 with 2 Axes>"
      ]
     },
     "metadata": {},
     "output_type": "display_data"
    }
   ],
   "source": [
    "corr_matrix = data.corr()\n",
    "sns.heatmap(corr_matrix, annot=True)\n",
    "plt.show()"
   ]
  },
  {
   "cell_type": "code",
   "execution_count": 20,
   "metadata": {},
   "outputs": [],
   "source": [
    "data['Gender'] = data['Gender'].apply(lambda x: 1 if x == 'Male' else 0)\n"
   ]
  },
  {
   "cell_type": "code",
   "execution_count": 21,
   "metadata": {},
   "outputs": [],
   "source": [
    "data['Timestamp'] = pd.to_datetime(data['Timestamp'])\n",
    "data['Hour'] = data['Timestamp'].dt.hour\n",
    "data['Day'] = data['Timestamp'].dt.day\n",
    "data['Month'] = data['Timestamp'].dt.month\n",
    "data['Year'] = data['Timestamp'].dt.year\n",
    "data = data.drop(columns=['Timestamp'])\n"
   ]
  },
  {
   "cell_type": "code",
   "execution_count": 22,
   "metadata": {},
   "outputs": [
    {
     "data": {
      "text/html": [
       "<div>\n",
       "<style scoped>\n",
       "    .dataframe tbody tr th:only-of-type {\n",
       "        vertical-align: middle;\n",
       "    }\n",
       "\n",
       "    .dataframe tbody tr th {\n",
       "        vertical-align: top;\n",
       "    }\n",
       "\n",
       "    .dataframe thead th {\n",
       "        text-align: right;\n",
       "    }\n",
       "</style>\n",
       "<table border=\"1\" class=\"dataframe\">\n",
       "  <thead>\n",
       "    <tr style=\"text-align: right;\">\n",
       "      <th></th>\n",
       "      <th>Daily Time Spent on Site</th>\n",
       "      <th>Age</th>\n",
       "      <th>Area Income</th>\n",
       "      <th>Daily Internet Usage</th>\n",
       "      <th>Ad Topic Line</th>\n",
       "      <th>City</th>\n",
       "      <th>Gender</th>\n",
       "      <th>Country</th>\n",
       "      <th>Clicked on Ad</th>\n",
       "      <th>Hour</th>\n",
       "      <th>Day</th>\n",
       "      <th>Month</th>\n",
       "      <th>Year</th>\n",
       "    </tr>\n",
       "  </thead>\n",
       "  <tbody>\n",
       "    <tr>\n",
       "      <th>0</th>\n",
       "      <td>62.26</td>\n",
       "      <td>32.0</td>\n",
       "      <td>69481.85</td>\n",
       "      <td>172.83</td>\n",
       "      <td>Decentralized real-time circuit</td>\n",
       "      <td>Lisafort</td>\n",
       "      <td>1</td>\n",
       "      <td>Svalbard &amp; Jan Mayen Islands</td>\n",
       "      <td>0</td>\n",
       "      <td>21</td>\n",
       "      <td>9</td>\n",
       "      <td>6</td>\n",
       "      <td>2016</td>\n",
       "    </tr>\n",
       "    <tr>\n",
       "      <th>1</th>\n",
       "      <td>41.73</td>\n",
       "      <td>31.0</td>\n",
       "      <td>61840.26</td>\n",
       "      <td>207.17</td>\n",
       "      <td>Optional full-range projection</td>\n",
       "      <td>West Angelabury</td>\n",
       "      <td>1</td>\n",
       "      <td>Singapore</td>\n",
       "      <td>0</td>\n",
       "      <td>17</td>\n",
       "      <td>16</td>\n",
       "      <td>1</td>\n",
       "      <td>2016</td>\n",
       "    </tr>\n",
       "    <tr>\n",
       "      <th>2</th>\n",
       "      <td>44.40</td>\n",
       "      <td>30.0</td>\n",
       "      <td>57877.15</td>\n",
       "      <td>172.83</td>\n",
       "      <td>Total 5thgeneration standardization</td>\n",
       "      <td>Reyesfurt</td>\n",
       "      <td>0</td>\n",
       "      <td>Guadeloupe</td>\n",
       "      <td>0</td>\n",
       "      <td>10</td>\n",
       "      <td>29</td>\n",
       "      <td>6</td>\n",
       "      <td>2016</td>\n",
       "    </tr>\n",
       "    <tr>\n",
       "      <th>3</th>\n",
       "      <td>59.88</td>\n",
       "      <td>28.0</td>\n",
       "      <td>56180.93</td>\n",
       "      <td>207.17</td>\n",
       "      <td>Balanced empowering success</td>\n",
       "      <td>New Michael</td>\n",
       "      <td>0</td>\n",
       "      <td>Zambia</td>\n",
       "      <td>0</td>\n",
       "      <td>14</td>\n",
       "      <td>21</td>\n",
       "      <td>6</td>\n",
       "      <td>2016</td>\n",
       "    </tr>\n",
       "    <tr>\n",
       "      <th>4</th>\n",
       "      <td>49.21</td>\n",
       "      <td>30.0</td>\n",
       "      <td>54324.73</td>\n",
       "      <td>201.58</td>\n",
       "      <td>Total 5thgeneration standardization</td>\n",
       "      <td>West Richard</td>\n",
       "      <td>0</td>\n",
       "      <td>Qatar</td>\n",
       "      <td>1</td>\n",
       "      <td>10</td>\n",
       "      <td>21</td>\n",
       "      <td>7</td>\n",
       "      <td>2016</td>\n",
       "    </tr>\n",
       "  </tbody>\n",
       "</table>\n",
       "</div>"
      ],
      "text/plain": [
       "   Daily Time Spent on Site   Age  Area Income  Daily Internet Usage  \\\n",
       "0                     62.26  32.0     69481.85                172.83   \n",
       "1                     41.73  31.0     61840.26                207.17   \n",
       "2                     44.40  30.0     57877.15                172.83   \n",
       "3                     59.88  28.0     56180.93                207.17   \n",
       "4                     49.21  30.0     54324.73                201.58   \n",
       "\n",
       "                         Ad Topic Line             City  Gender  \\\n",
       "0      Decentralized real-time circuit         Lisafort       1   \n",
       "1       Optional full-range projection  West Angelabury       1   \n",
       "2  Total 5thgeneration standardization        Reyesfurt       0   \n",
       "3          Balanced empowering success      New Michael       0   \n",
       "4  Total 5thgeneration standardization     West Richard       0   \n",
       "\n",
       "                        Country  Clicked on Ad  Hour  Day  Month  Year  \n",
       "0  Svalbard & Jan Mayen Islands              0    21    9      6  2016  \n",
       "1                     Singapore              0    17   16      1  2016  \n",
       "2                    Guadeloupe              0    10   29      6  2016  \n",
       "3                        Zambia              0    14   21      6  2016  \n",
       "4                         Qatar              1    10   21      7  2016  "
      ]
     },
     "execution_count": 22,
     "metadata": {},
     "output_type": "execute_result"
    }
   ],
   "source": [
    "data.head()"
   ]
  },
  {
   "cell_type": "code",
   "execution_count": 23,
   "metadata": {},
   "outputs": [],
   "source": [
    "import seaborn as sns\n",
    "from sklearn.preprocessing import StandardScaler, OneHotEncoder\n",
    "from sklearn.model_selection import train_test_split\n",
    "\n",
    "encoder = OneHotEncoder(sparse_output=False)\n",
    "encoded_features = encoder.fit_transform(data[['City', 'Country', 'Gender']])\n",
    "encoded_df = pd.DataFrame(encoded_features, columns=encoder.get_feature_names_out(['City', 'Country', 'Gender']))"
   ]
  },
  {
   "cell_type": "code",
   "execution_count": 24,
   "metadata": {},
   "outputs": [],
   "source": [
    "df = pd.concat([data, encoded_df], axis=1)\n",
    "df.drop(['City', 'Country', 'Gender', 'Ad Topic Line'], axis=1, inplace=True)\n"
   ]
  },
  {
   "cell_type": "code",
   "execution_count": 25,
   "metadata": {},
   "outputs": [
    {
     "data": {
      "text/html": [
       "<div>\n",
       "<style scoped>\n",
       "    .dataframe tbody tr th:only-of-type {\n",
       "        vertical-align: middle;\n",
       "    }\n",
       "\n",
       "    .dataframe tbody tr th {\n",
       "        vertical-align: top;\n",
       "    }\n",
       "\n",
       "    .dataframe thead th {\n",
       "        text-align: right;\n",
       "    }\n",
       "</style>\n",
       "<table border=\"1\" class=\"dataframe\">\n",
       "  <thead>\n",
       "    <tr style=\"text-align: right;\">\n",
       "      <th></th>\n",
       "      <th>Daily Time Spent on Site</th>\n",
       "      <th>Age</th>\n",
       "      <th>Area Income</th>\n",
       "      <th>Daily Internet Usage</th>\n",
       "      <th>Clicked on Ad</th>\n",
       "      <th>Hour</th>\n",
       "      <th>Day</th>\n",
       "      <th>Month</th>\n",
       "      <th>Year</th>\n",
       "      <th>City_Alexanderfurt</th>\n",
       "      <th>...</th>\n",
       "      <th>Country_Uzbekistan</th>\n",
       "      <th>Country_Vanuatu</th>\n",
       "      <th>Country_Venezuela</th>\n",
       "      <th>Country_Wallis and Futuna</th>\n",
       "      <th>Country_Western Sahara</th>\n",
       "      <th>Country_Yemen</th>\n",
       "      <th>Country_Zambia</th>\n",
       "      <th>Country_Zimbabwe</th>\n",
       "      <th>Gender_0</th>\n",
       "      <th>Gender_1</th>\n",
       "    </tr>\n",
       "  </thead>\n",
       "  <tbody>\n",
       "    <tr>\n",
       "      <th>0</th>\n",
       "      <td>62.26</td>\n",
       "      <td>32.0</td>\n",
       "      <td>69481.85</td>\n",
       "      <td>172.83</td>\n",
       "      <td>0</td>\n",
       "      <td>21</td>\n",
       "      <td>9</td>\n",
       "      <td>6</td>\n",
       "      <td>2016</td>\n",
       "      <td>0.0</td>\n",
       "      <td>...</td>\n",
       "      <td>0.0</td>\n",
       "      <td>0.0</td>\n",
       "      <td>0.0</td>\n",
       "      <td>0.0</td>\n",
       "      <td>0.0</td>\n",
       "      <td>0.0</td>\n",
       "      <td>0.0</td>\n",
       "      <td>0.0</td>\n",
       "      <td>0.0</td>\n",
       "      <td>1.0</td>\n",
       "    </tr>\n",
       "    <tr>\n",
       "      <th>1</th>\n",
       "      <td>41.73</td>\n",
       "      <td>31.0</td>\n",
       "      <td>61840.26</td>\n",
       "      <td>207.17</td>\n",
       "      <td>0</td>\n",
       "      <td>17</td>\n",
       "      <td>16</td>\n",
       "      <td>1</td>\n",
       "      <td>2016</td>\n",
       "      <td>0.0</td>\n",
       "      <td>...</td>\n",
       "      <td>0.0</td>\n",
       "      <td>0.0</td>\n",
       "      <td>0.0</td>\n",
       "      <td>0.0</td>\n",
       "      <td>0.0</td>\n",
       "      <td>0.0</td>\n",
       "      <td>0.0</td>\n",
       "      <td>0.0</td>\n",
       "      <td>0.0</td>\n",
       "      <td>1.0</td>\n",
       "    </tr>\n",
       "    <tr>\n",
       "      <th>2</th>\n",
       "      <td>44.40</td>\n",
       "      <td>30.0</td>\n",
       "      <td>57877.15</td>\n",
       "      <td>172.83</td>\n",
       "      <td>0</td>\n",
       "      <td>10</td>\n",
       "      <td>29</td>\n",
       "      <td>6</td>\n",
       "      <td>2016</td>\n",
       "      <td>0.0</td>\n",
       "      <td>...</td>\n",
       "      <td>0.0</td>\n",
       "      <td>0.0</td>\n",
       "      <td>0.0</td>\n",
       "      <td>0.0</td>\n",
       "      <td>0.0</td>\n",
       "      <td>0.0</td>\n",
       "      <td>0.0</td>\n",
       "      <td>0.0</td>\n",
       "      <td>1.0</td>\n",
       "      <td>0.0</td>\n",
       "    </tr>\n",
       "    <tr>\n",
       "      <th>3</th>\n",
       "      <td>59.88</td>\n",
       "      <td>28.0</td>\n",
       "      <td>56180.93</td>\n",
       "      <td>207.17</td>\n",
       "      <td>0</td>\n",
       "      <td>14</td>\n",
       "      <td>21</td>\n",
       "      <td>6</td>\n",
       "      <td>2016</td>\n",
       "      <td>0.0</td>\n",
       "      <td>...</td>\n",
       "      <td>0.0</td>\n",
       "      <td>0.0</td>\n",
       "      <td>0.0</td>\n",
       "      <td>0.0</td>\n",
       "      <td>0.0</td>\n",
       "      <td>0.0</td>\n",
       "      <td>1.0</td>\n",
       "      <td>0.0</td>\n",
       "      <td>1.0</td>\n",
       "      <td>0.0</td>\n",
       "    </tr>\n",
       "    <tr>\n",
       "      <th>4</th>\n",
       "      <td>49.21</td>\n",
       "      <td>30.0</td>\n",
       "      <td>54324.73</td>\n",
       "      <td>201.58</td>\n",
       "      <td>1</td>\n",
       "      <td>10</td>\n",
       "      <td>21</td>\n",
       "      <td>7</td>\n",
       "      <td>2016</td>\n",
       "      <td>0.0</td>\n",
       "      <td>...</td>\n",
       "      <td>0.0</td>\n",
       "      <td>0.0</td>\n",
       "      <td>0.0</td>\n",
       "      <td>0.0</td>\n",
       "      <td>0.0</td>\n",
       "      <td>0.0</td>\n",
       "      <td>0.0</td>\n",
       "      <td>0.0</td>\n",
       "      <td>1.0</td>\n",
       "      <td>0.0</td>\n",
       "    </tr>\n",
       "  </tbody>\n",
       "</table>\n",
       "<p>5 rows × 739 columns</p>\n",
       "</div>"
      ],
      "text/plain": [
       "   Daily Time Spent on Site   Age  Area Income  Daily Internet Usage  \\\n",
       "0                     62.26  32.0     69481.85                172.83   \n",
       "1                     41.73  31.0     61840.26                207.17   \n",
       "2                     44.40  30.0     57877.15                172.83   \n",
       "3                     59.88  28.0     56180.93                207.17   \n",
       "4                     49.21  30.0     54324.73                201.58   \n",
       "\n",
       "   Clicked on Ad  Hour  Day  Month  Year  City_Alexanderfurt  ...  \\\n",
       "0              0    21    9      6  2016                 0.0  ...   \n",
       "1              0    17   16      1  2016                 0.0  ...   \n",
       "2              0    10   29      6  2016                 0.0  ...   \n",
       "3              0    14   21      6  2016                 0.0  ...   \n",
       "4              1    10   21      7  2016                 0.0  ...   \n",
       "\n",
       "   Country_Uzbekistan  Country_Vanuatu  Country_Venezuela  \\\n",
       "0                 0.0              0.0                0.0   \n",
       "1                 0.0              0.0                0.0   \n",
       "2                 0.0              0.0                0.0   \n",
       "3                 0.0              0.0                0.0   \n",
       "4                 0.0              0.0                0.0   \n",
       "\n",
       "   Country_Wallis and Futuna  Country_Western Sahara  Country_Yemen  \\\n",
       "0                        0.0                     0.0            0.0   \n",
       "1                        0.0                     0.0            0.0   \n",
       "2                        0.0                     0.0            0.0   \n",
       "3                        0.0                     0.0            0.0   \n",
       "4                        0.0                     0.0            0.0   \n",
       "\n",
       "   Country_Zambia  Country_Zimbabwe  Gender_0  Gender_1  \n",
       "0             0.0               0.0       0.0       1.0  \n",
       "1             0.0               0.0       0.0       1.0  \n",
       "2             0.0               0.0       1.0       0.0  \n",
       "3             1.0               0.0       1.0       0.0  \n",
       "4             0.0               0.0       1.0       0.0  \n",
       "\n",
       "[5 rows x 739 columns]"
      ]
     },
     "execution_count": 25,
     "metadata": {},
     "output_type": "execute_result"
    }
   ],
   "source": [
    "df.head()"
   ]
  },
  {
   "cell_type": "code",
   "execution_count": 26,
   "metadata": {},
   "outputs": [],
   "source": [
    "X = df.drop('Clicked on Ad', axis=1)\n",
    "y = df['Clicked on Ad']\n",
    "X_train, X_test, y_train, y_test = train_test_split(X, y, test_size=0.2, random_state=42)"
   ]
  },
  {
   "cell_type": "code",
   "execution_count": 27,
   "metadata": {},
   "outputs": [],
   "source": [
    "scaler = StandardScaler()\n",
    "X_scaled = scaler.fit_transform(X)"
   ]
  },
  {
   "cell_type": "code",
   "execution_count": 28,
   "metadata": {},
   "outputs": [
    {
     "name": "stdout",
     "output_type": "stream",
     "text": [
      "Original Data - Cross-Validation Scores: [0.866  0.8675 0.872  0.878  0.8835]\n",
      "Original Data - Mean Accuracy: 0.8734\n"
     ]
    }
   ],
   "source": [
    "from sklearn.model_selection import train_test_split, cross_val_score\n",
    "from sklearn.decomposition import PCA\n",
    "from sklearn.cluster import KMeans\n",
    "from sklearn.ensemble import RandomForestClassifier\n",
    "from sklearn.metrics import accuracy_score, confusion_matrix, classification_report\n",
    "\n",
    "model = RandomForestClassifier(random_state=42)\n",
    "\n",
    "\n",
    "cv_scores = cross_val_score(model, X_scaled, y, cv=5, scoring='accuracy')\n",
    "\n",
    "\n",
    "print(\"Original Data - Cross-Validation Scores:\", cv_scores)\n",
    "print(\"Original Data - Mean Accuracy:\", np.mean(cv_scores))"
   ]
  },
  {
   "cell_type": "code",
   "execution_count": 29,
   "metadata": {},
   "outputs": [
    {
     "name": "stdout",
     "output_type": "stream",
     "text": [
      "PCA Data - Cross-Validation Scores: [0.759  0.7545 0.76   0.763  0.754 ]\n",
      "PCA Data - Mean Accuracy: 0.7581\n"
     ]
    }
   ],
   "source": [
    "\n",
    "pca = PCA(n_components= 2)  \n",
    "X_pca = pca.fit_transform(X_scaled)\n",
    "\n",
    "\n",
    "cv_scores_pca = cross_val_score(model, X_pca, y, cv=5, scoring='accuracy')\n",
    "\n",
    "\n",
    "print(\"PCA Data - Cross-Validation Scores:\", cv_scores_pca)\n",
    "print(\"PCA Data - Mean Accuracy:\", np.mean(cv_scores_pca))\n"
   ]
  },
  {
   "cell_type": "code",
   "execution_count": 30,
   "metadata": {},
   "outputs": [
    {
     "name": "stdout",
     "output_type": "stream",
     "text": [
      "Clustered Data - Cross-Validation Scores: [0.8675 0.874  0.87   0.878  0.873 ]\n",
      "Clustered Data - Mean Accuracy: 0.8724999999999999\n"
     ]
    }
   ],
   "source": [
    "kmeans = KMeans(n_clusters=2, random_state=42)\n",
    "df['Cluster'] = kmeans.fit_predict(X_scaled)\n",
    "\n",
    "X_cluster = df.drop('Clicked on Ad', axis=1)\n",
    "\n",
    "X_cluster_scaled = scaler.fit_transform(X_cluster)\n",
    "\n",
    "cv_scores_cluster = cross_val_score(model, X_cluster_scaled, y, cv=5, scoring='accuracy')\n",
    "\n",
    "\n",
    "print(\"Clustered Data - Cross-Validation Scores:\", cv_scores_cluster)\n",
    "print(\"Clustered Data - Mean Accuracy:\", np.mean(cv_scores_cluster))\n"
   ]
  },
  {
   "cell_type": "code",
   "execution_count": 31,
   "metadata": {},
   "outputs": [
    {
     "name": "stdout",
     "output_type": "stream",
     "text": [
      "Comparison of Models:\n",
      "Original Data - Mean Accuracy: 0.8734\n",
      "PCA Data - Mean Accuracy: 0.7581\n",
      "Clustered Data - Mean Accuracy: 0.8724999999999999\n"
     ]
    }
   ],
   "source": [
    "print(\"Comparison of Models:\")\n",
    "print(\"Original Data - Mean Accuracy:\", np.mean(cv_scores))\n",
    "print(\"PCA Data - Mean Accuracy:\", np.mean(cv_scores_pca))\n",
    "print(\"Clustered Data - Mean Accuracy:\", np.mean(cv_scores_cluster))\n"
   ]
  },
  {
   "cell_type": "code",
   "execution_count": 32,
   "metadata": {},
   "outputs": [],
   "source": [
    "from sklearn.ensemble import RandomForestClassifier, GradientBoostingClassifier\n",
    "from sklearn.linear_model import LogisticRegression\n",
    "from sklearn.svm import SVC\n",
    "from sklearn.metrics import accuracy_score, confusion_matrix, classification_report\n"
   ]
  },
  {
   "cell_type": "code",
   "execution_count": 33,
   "metadata": {},
   "outputs": [],
   "source": [
    "from sklearn.discriminant_analysis import LinearDiscriminantAnalysis\n",
    "\n",
    "\n",
    "lda = LinearDiscriminantAnalysis(n_components=1)  \n",
    "X_lda = lda.fit_transform(X_scaled, y)\n"
   ]
  },
  {
   "cell_type": "code",
   "execution_count": 34,
   "metadata": {},
   "outputs": [
    {
     "name": "stdout",
     "output_type": "stream",
     "text": [
      "Logistic Regression - Mean Accuracy (Original): 0.8644000000000001\n",
      "Logistic Regression - Mean Accuracy (PCA): 0.7776\n",
      "Logistic Regression - Mean Accuracy (LDA): 0.8907\n",
      "Logistic Regression - Mean Accuracy (Cluster): 0.8644999999999999\n"
     ]
    }
   ],
   "source": [
    "# Logistic Regression\n",
    "log_reg = LogisticRegression(random_state=42)\n",
    "log_reg_scores = cross_val_score(log_reg, X_scaled, y, cv=5, scoring='accuracy')\n",
    "log_reg_scores_pca = cross_val_score(log_reg, X_pca, y, cv=5, scoring='accuracy')\n",
    "log_reg_scores_lda = cross_val_score(log_reg, X_lda, y, cv=5, scoring='accuracy')\n",
    "log_reg_scores_cluster = cross_val_score(log_reg, X_cluster_scaled, y, cv=5, scoring='accuracy')\n",
    "\n",
    "print(\"Logistic Regression - Mean Accuracy (Original):\", np.mean(log_reg_scores))\n",
    "print(\"Logistic Regression - Mean Accuracy (PCA):\", np.mean(log_reg_scores_pca))\n",
    "print(\"Logistic Regression - Mean Accuracy (LDA):\", np.mean(log_reg_scores_lda))\n",
    "print(\"Logistic Regression - Mean Accuracy (Cluster):\", np.mean(log_reg_scores_cluster))\n"
   ]
  },
  {
   "cell_type": "code",
   "execution_count": 35,
   "metadata": {},
   "outputs": [
    {
     "name": "stdout",
     "output_type": "stream",
     "text": [
      "Random Forest - Mean Accuracy (Original): 0.8734\n",
      "Random Forest - Mean Accuracy (PCA): 0.7581\n",
      "Random Forest - Mean Accuracy (LDA): 0.8511000000000001\n",
      "Random Forest - Mean Accuracy (Cluster): 0.8724999999999999\n"
     ]
    }
   ],
   "source": [
    "# Random Forest\n",
    "rf = RandomForestClassifier(random_state=42)\n",
    "rf_scores = cross_val_score(rf, X_scaled, y, cv=5, scoring='accuracy')\n",
    "rf_scores_pca = cross_val_score(rf, X_pca, y, cv=5, scoring='accuracy')\n",
    "rf_scores_lda = cross_val_score(rf, X_lda, y, cv=5, scoring='accuracy')\n",
    "rf_scores_cluster = cross_val_score(rf, X_cluster_scaled, y, cv=5, scoring='accuracy')\n",
    "\n",
    "print(\"Random Forest - Mean Accuracy (Original):\", np.mean(rf_scores))\n",
    "print(\"Random Forest - Mean Accuracy (PCA):\", np.mean(rf_scores_pca))\n",
    "print(\"Random Forest - Mean Accuracy (LDA):\", np.mean(rf_scores_lda))\n",
    "print(\"Random Forest - Mean Accuracy (Cluster):\", np.mean(rf_scores_cluster))\n"
   ]
  },
  {
   "cell_type": "code",
   "execution_count": 36,
   "metadata": {},
   "outputs": [
    {
     "name": "stdout",
     "output_type": "stream",
     "text": [
      "Gradient Boosting - Mean Accuracy (Original): 0.8148\n",
      "Gradient Boosting - Mean Accuracy (PCA): 0.7801000000000001\n",
      "Gradient Boosting - Mean Accuracy (LDA): 0.8892\n",
      "Gradient Boosting - Mean Accuracy (Cluster): 0.8149000000000001\n"
     ]
    }
   ],
   "source": [
    "# Gradient Boosting\n",
    "gb = GradientBoostingClassifier(random_state=42)\n",
    "gb_scores = cross_val_score(gb, X_scaled, y, cv=5, scoring='accuracy')\n",
    "gb_scores_pca = cross_val_score(gb, X_pca, y, cv=5, scoring='accuracy')\n",
    "gb_scores_lda = cross_val_score(gb, X_lda, y, cv=5, scoring='accuracy')\n",
    "gb_scores_cluster = cross_val_score(gb, X_cluster_scaled, y, cv=5, scoring='accuracy')\n",
    "\n",
    "print(\"Gradient Boosting - Mean Accuracy (Original):\", np.mean(gb_scores))\n",
    "print(\"Gradient Boosting - Mean Accuracy (PCA):\", np.mean(gb_scores_pca))\n",
    "print(\"Gradient Boosting - Mean Accuracy (LDA):\", np.mean(gb_scores_lda))\n",
    "print(\"Gradient Boosting - Mean Accuracy (Cluster):\", np.mean(gb_scores_cluster))\n"
   ]
  },
  {
   "cell_type": "code",
   "execution_count": 69,
   "metadata": {},
   "outputs": [
    {
     "name": "stdout",
     "output_type": "stream",
     "text": [
      "SVM - Mean Accuracy (Original): 0.8504000000000002\n",
      "SVM - Mean Accuracy (PCA): 0.7819\n",
      "SVM - Mean Accuracy (LDA): 0.8916999999999999\n",
      "SVM - Mean Accuracy (Cluster): 0.8504999999999999\n"
     ]
    }
   ],
   "source": [
    "# Support Vector Machine\n",
    "svm = SVC(random_state=42)\n",
    "svm_scores = cross_val_score(svm, X_scaled, y, cv=5, scoring='accuracy')\n",
    "svm_scores_pca = cross_val_score(svm, X_pca, y, cv=5, scoring='accuracy')\n",
    "svm_scores_lda = cross_val_score(svm, X_lda, y, cv=5, scoring='accuracy')\n",
    "svm_scores_cluster = cross_val_score(svm, X_cluster_scaled, y, cv=5, scoring='accuracy')\n",
    "\n",
    "print(\"SVM - Mean Accuracy (Original):\", np.mean(svm_scores))\n",
    "print(\"SVM - Mean Accuracy (PCA):\", np.mean(svm_scores_pca))\n",
    "print(\"SVM - Mean Accuracy (LDA):\", np.mean(svm_scores_lda))\n",
    "print(\"SVM - Mean Accuracy (Cluster):\", np.mean(svm_scores_cluster))\n"
   ]
  },
  {
   "cell_type": "code",
   "execution_count": 70,
   "metadata": {},
   "outputs": [
    {
     "name": "stdout",
     "output_type": "stream",
     "text": [
      "Comparison of Models:\n",
      "Logistic Regression - Mean Accuracy (Original): 0.8644000000000001\n",
      "Logistic Regression - Mean Accuracy (PCA): 0.7793\n",
      "Logistic Regression - Mean Accuracy (LDA): 0.8907\n",
      "Logistic Regression - Mean Accuracy (Cluster): 0.8644999999999999\n",
      "Random Forest - Mean Accuracy (Original): 0.8734\n",
      "Random Forest - Mean Accuracy (PCA): 0.7558\n",
      "Random Forest - Mean Accuracy (LDA): 0.8511000000000001\n",
      "Random Forest - Mean Accuracy (Cluster): 0.8724999999999999\n",
      "Gradient Boosting - Mean Accuracy (Original): 0.8148\n",
      "Gradient Boosting - Mean Accuracy (PCA): 0.78\n",
      "Gradient Boosting - Mean Accuracy (LDA): 0.8892\n",
      "Gradient Boosting - Mean Accuracy (Cluster): 0.8149000000000001\n",
      "SVM - Mean Accuracy (Original): 0.8504000000000002\n",
      "SVM - Mean Accuracy (PCA): 0.7819\n",
      "SVM - Mean Accuracy (LDA): 0.8916999999999999\n",
      "SVM - Mean Accuracy (Cluster): 0.8504999999999999\n"
     ]
    }
   ],
   "source": [
    "print(\"Comparison of Models:\")\n",
    "\n",
    "# Logistic Regression\n",
    "print(\"Logistic Regression - Mean Accuracy (Original):\", np.mean(log_reg_scores))\n",
    "print(\"Logistic Regression - Mean Accuracy (PCA):\", np.mean(log_reg_scores_pca))\n",
    "print(\"Logistic Regression - Mean Accuracy (LDA):\", np.mean(log_reg_scores_lda))\n",
    "print(\"Logistic Regression - Mean Accuracy (Cluster):\", np.mean(log_reg_scores_cluster))\n",
    "\n",
    "# Random Forest\n",
    "print(\"Random Forest - Mean Accuracy (Original):\", np.mean(rf_scores))\n",
    "print(\"Random Forest - Mean Accuracy (PCA):\", np.mean(rf_scores_pca))\n",
    "print(\"Random Forest - Mean Accuracy (LDA):\", np.mean(rf_scores_lda))\n",
    "print(\"Random Forest - Mean Accuracy (Cluster):\", np.mean(rf_scores_cluster))\n",
    "\n",
    "# Gradient Boosting\n",
    "print(\"Gradient Boosting - Mean Accuracy (Original):\", np.mean(gb_scores))\n",
    "print(\"Gradient Boosting - Mean Accuracy (PCA):\", np.mean(gb_scores_pca))\n",
    "print(\"Gradient Boosting - Mean Accuracy (LDA):\", np.mean(gb_scores_lda))\n",
    "print(\"Gradient Boosting - Mean Accuracy (Cluster):\", np.mean(gb_scores_cluster))\n",
    "\n",
    "# SVM\n",
    "print(\"SVM - Mean Accuracy (Original):\", np.mean(svm_scores))\n",
    "print(\"SVM - Mean Accuracy (PCA):\", np.mean(svm_scores_pca))\n",
    "print(\"SVM - Mean Accuracy (LDA):\", np.mean(svm_scores_lda))\n",
    "print(\"SVM - Mean Accuracy (Cluster):\", np.mean(svm_scores_cluster))\n"
   ]
  },
  {
   "cell_type": "markdown",
   "metadata": {},
   "source": [
    "### Conclusion\n",
    "Exploratory Data Analysis (EDA) and the use of dimensionality reduction techniques play a crucial role in better understanding the data, identifying strengths and weaknesses, and preparing the data for modeling. By employing various EDA and dimensionality reduction techniques, we can transform the data into a suitable format for machine learning algorithms, thereby improving model performance. Comparing the results of methods like PCA and LDA with the original and clustered data helps identify the best data preparation approach and the most effective model for predicting advertisement clicks."
   ]
  },
  {
   "cell_type": "code",
   "execution_count": null,
   "metadata": {},
   "outputs": [],
   "source": []
  }
 ],
 "metadata": {
  "kernelspec": {
   "display_name": "Python 3 (ipykernel)",
   "language": "python",
   "name": "python3"
  },
  "language_info": {
   "codemirror_mode": {
    "name": "ipython",
    "version": 3
   },
   "file_extension": ".py",
   "mimetype": "text/x-python",
   "name": "python",
   "nbconvert_exporter": "python",
   "pygments_lexer": "ipython3",
   "version": "3.11.2"
  }
 },
 "nbformat": 4,
 "nbformat_minor": 2
}
